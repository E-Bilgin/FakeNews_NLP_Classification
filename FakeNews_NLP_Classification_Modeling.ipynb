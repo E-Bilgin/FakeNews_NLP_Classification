{
 "cells": [
  {
   "cell_type": "markdown",
   "metadata": {},
   "source": [
    "# Fake News Detection Using Natural Language Processing (NLP) and Classification Modeling"
   ]
  },
  {
   "cell_type": "markdown",
   "metadata": {},
   "source": [
    "### Abstract\n",
    "How might Natural Language Processing better inform us about how fake news filters get created? This case study attempts to distinguish between _fake news_ and _absurd news_ by building a classification model trained on Subreddit posts from r/TheOnion and r/nottheonion. I believe it's imperative to maintain a high level of accuracy when creating a fake news detector--where all fake news gets filtered out and authentic news will not be affected by a filter. "
   ]
  },
  {
   "cell_type": "markdown",
   "metadata": {},
   "source": [
    "**What is The Onion and Not The Onion?**"
   ]
  },
  {
   "cell_type": "markdown",
   "metadata": {},
   "source": [
    "(1)**The Onion** is an absurd satirical publication, written in such a way that people often mistake it for being real.\n",
    "\n",
    "https://www.reddit.com/r/TheOnion/\n",
    "\n",
    "**Not the Onion** is a subreddit that lists real news stories so absurd that you could honestly believe they were fake.\n",
    "\n",
    "https://www.reddit.com/r/nottheonion/\n",
    "\n",
    "(2)**The Onion** runs **fake news** stories that should be real, wheres **Not The Onion** runs **real news** stories that should be fake.\n",
    "\n",
    "(3)**The Onion** is a **fake news** site which makes humorous news.\n",
    "**r/nottheonion** is for news so absurd you automatically think that they're from The Onion.\n"
   ]
  },
  {
   "cell_type": "markdown",
   "metadata": {},
   "source": [
    "### Contents\n",
    "- [**Import Libraries**](#Import-Libraries)\n",
    "- [**Data Scrape**](#Data-Scrape)\n",
    " - [API Scrape Function](#API-Scrape-Function)\n",
    " - [Scrape r/notheonion](#Scrape-r/nottheonion)\n",
    " - [Scrape r/TheOnion](#Scrape-r/TheOnion)\n",
    "- [**Import Data**](#Import-Data)\n",
    " - [Preview `df_onion`](#Preview-df_onion)\n",
    "- [**Clean Data**](#Clean-Data)\n",
    " - [Data Cleaning Function](#Data-Cleaning-Function)\n",
    " - [Clean `df_onion`](#Clean-df_onion)\n",
    " - [Clean `df_not_onion`](#Clean-df_not_onion)\n",
    " - [Check Nulls](#Check-Nulls)\n",
    "- [**Exploratory Data Analysis (EDA)**](#Exploratory-Data-Analysis-(EDA))\n",
    " - [Data Range of Scraped Posts](#Data-Range-of-Scraped-Posts)\n",
    " - [Bar Plot Function](#Bar-Plot-Function)\n",
    " - [r/TheOnion: Most Active Authors](#r/TheOnion:-Most-Active-Authors)\n",
    " - [r/nottheonion: Most Active Authors](#r/nottheonion:-Most-Active-Authors)\n",
    " - [r/TheOnion: Most Referenced Domains](#r/TheOnion:-Most-Referenced-Domains)\n",
    " - [r/nottheonion: Most Referenced Domains](#r/nottheonion:-Most-Referenced-Domains)\n",
    "- [**Natural Language Processing (NLP)**](#Natural-Language-Processing-(NLP))\n",
    " - [Concatenate DataFrames](#Concatenate-DataFrames)\n",
    " - [Binarize Target `subreddit`](#Binarize-Target-subreddit)\n",
    " - [Apply `CountVectorizer()`](#Apply-CountVectorizer())\n",
    " - [r/TheOnion: Top 5 Unigrams](#r/TheOnion:-Top-5-Unigrams)\n",
    " - [r/nottheonion: Top 5 Unigrams](#r/nottheonion:-Top-5-Unigrams)\n",
    " - [r/nottheonion: Top 5 Bigrams](#r/nottheonion:-Top-5-Bigrams)\n",
    " - [r/nottheonion: Top 5 Bigrams](#r/nottheonion:-Top-5-Bigrams)\n",
    " - [Create custom `stop_words` to include common frequent words](#Create-custom-stop_words-to-include-common-frequent-words)\n",
    "- [**Modeling**](#Modeling)\n",
    " - [Baseline Score](#Baseline-Score)\n",
    " - [Set `X` (predictor) and `y` (target) variables](#Set-X-(predictor)-and-y-(target)-variables)\n",
    " - [Train/Test Split](#Train/Test-Split)\n",
    " - [Model 1: CountVectorizer & Logistic Regression (Best Coefficient Interpretability)](#Model-1:-CountVectorizer-&-Logistic-Regression-(Best-Coefficient-Interpretability))\n",
    " - [Model 2: TfidfVectorize & Logistic Regression](#Model-2:-TfidfVectorize-&-Logistic-Regression)\n",
    " - [Model 3: CountVectorizer & MultinomialNB (Best Accuracy Score)](#Model-3:-CountVectorizer-&-MultinomialNB-(Best-Accuracy-Score))\n",
    " - [Model 4: TfidfVectorizer & MultinomialNB](#Model-4:-TfidfVectorizer-&-MultinomialNB)\n",
    "- [**Best Models**](#Best-Models)\n",
    " - [CountVectorizer & MultinomialNB: Best Score](#CountVectorizer-&-MultinomialNB:-Best-Score)\n",
    " - [Confusion Matrix](#Confusion-Matrix)\n",
    " - [CountVectorizer & Logistic Regression: Best Coefficient Interpretability](#CountVectorizer-&-Logistic-Regression:-Best-Coefficient-Interpretability)\n",
    " - [Coefficient Analysis](#Coefficient-Analysis)\n",
    "- [**Conclusions and Next-Steps**](#Conclusions-and-Next-Steps)"
   ]
  },
  {
   "cell_type": "markdown",
   "metadata": {},
   "source": [
    "# Import Libraries"
   ]
  },
  {
   "cell_type": "code",
   "execution_count": 1,
   "metadata": {},
   "outputs": [],
   "source": [
    "#pip install psaw"
   ]
  },
  {
   "cell_type": "markdown",
   "metadata": {},
   "source": [
    "https://psaw.readthedocs.io/en/latest/"
   ]
  },
  {
   "cell_type": "code",
   "execution_count": 2,
   "metadata": {},
   "outputs": [
    {
     "name": "stderr",
     "output_type": "stream",
     "text": [
      "/opt/anaconda3/lib/python3.8/site-packages/sklearn/utils/deprecation.py:143: FutureWarning: The sklearn.feature_extraction.stop_words module is  deprecated in version 0.22 and will be removed in version 0.24. The corresponding classes / functions should instead be imported from sklearn.feature_extraction.text. Anything that cannot be imported from sklearn.feature_extraction.text is now part of the private API.\n",
      "  warnings.warn(message, FutureWarning)\n"
     ]
    }
   ],
   "source": [
    "# API scrape \n",
    "from psaw import PushshiftAPI\n",
    "\n",
    "# Basic libraries\n",
    "import numpy as np\n",
    "import pandas as pd\n",
    "\n",
    "# Data Visualization\n",
    "import matplotlib.pyplot as plt\n",
    "import seaborn as sns\n",
    "%config InlineBackend.figure_format = 'retina'\n",
    "%matplotlib inline\n",
    "\n",
    "# Natural Language Processing\n",
    "from sklearn.feature_extraction import stop_words\n",
    "from sklearn.feature_extraction.text import CountVectorizer, TfidfVectorizer\n",
    "\n",
    "# Modeling\n",
    "from sklearn.linear_model import LogisticRegression\n",
    "from sklearn.model_selection import train_test_split, GridSearchCV\n",
    "from sklearn.pipeline import Pipeline\n",
    "from sklearn.naive_bayes import MultinomialNB\n",
    "from sklearn import metrics\n",
    "from sklearn.metrics import accuracy_score, recall_score, precision_score, confusion_matrix\n"
   ]
  },
  {
   "cell_type": "markdown",
   "metadata": {},
   "source": [
    "# Data Scrape"
   ]
  },
  {
   "cell_type": "markdown",
   "metadata": {},
   "source": [
    "I chose to scrape posts from r/TheOnion and r/nottheonion in order to create a fake news model that could accurately distinguish between fake news and absurd news. From each subbreddit I scraped the following information:  \n",
    " - `title`: title of subreddit post \n",
    " - `subreddit`: which subreddit the post belongs to \n",
    " - `num_comments`: the number of comments for a post \n",
    " - `author`: author's username of a post\n",
    " - `subreddit_subcribers`: number of subcribers for that subreddit \n",
    " - `score`: the score received on reddit \n",
    " - `domain`: the domain referenced in the post \n",
    " - `created_utc`: date and time the post was created\n",
    "\n",
    "\n",
    "\n"
   ]
  },
  {
   "cell_type": "markdown",
   "metadata": {},
   "source": [
    "### API Scrape Function"
   ]
  },
  {
   "cell_type": "code",
   "execution_count": 3,
   "metadata": {},
   "outputs": [],
   "source": [
    "def scrape_data(subreddit):\n",
    "    \n",
    "    # Instantiate \n",
    "    api = PushshiftAPI()\n",
    "\n",
    "    # Create list of scraped data\n",
    "    scrape_list = list(api.search_submissions(subreddit=subreddit,\n",
    "                                filter=['title', 'subreddit', 'num_comments', 'author', 'subreddit_subscribers', 'score', 'domain', 'created_utc'],\n",
    "                                limit=10000))\n",
    "\n",
    "    #Filter list to only show Subreddit titles and Subreddit category \n",
    "    clean_scrape_lst = []\n",
    "    for i in range(len(scrape_list)):\n",
    "        scrape_dict = {}\n",
    "        scrape_dict['subreddit'] = scrape_list[i][5]\n",
    "        scrape_dict['author'] = scrape_list[i][0]\n",
    "        scrape_dict['domain'] = scrape_list[i][2]\n",
    "        scrape_dict['title'] = scrape_list[i][7]\n",
    "        scrape_dict['num_comments'] = scrape_list[i][3]\n",
    "        scrape_dict['score'] = scrape_list[i][4]\n",
    "        scrape_dict['timestamp'] = scrape_list[i][1]\n",
    "        clean_scrape_lst.append(scrape_dict)\n",
    "\n",
    "    # Show number of subscribers\n",
    "    print(subreddit, 'subscribers:',scrape_list[1][6])\n",
    "    \n",
    "    # Return list of scraped data\n",
    "    return clean_scrape_lst"
   ]
  },
  {
   "cell_type": "markdown",
   "metadata": {},
   "source": [
    "### Scrape r/nottheonion"
   ]
  },
  {
   "cell_type": "code",
   "execution_count": 4,
   "metadata": {},
   "outputs": [
    {
     "name": "stderr",
     "output_type": "stream",
     "text": [
      "/opt/anaconda3/lib/python3.8/site-packages/psaw/PushshiftAPI.py:192: UserWarning: Got non 200 code 522\n",
      "  warnings.warn(\"Got non 200 code %s\" % response.status_code)\n",
      "/opt/anaconda3/lib/python3.8/site-packages/psaw/PushshiftAPI.py:180: UserWarning: Unable to connect to pushshift.io. Retrying after backoff.\n",
      "  warnings.warn(\"Unable to connect to pushshift.io. Retrying after backoff.\")\n",
      "/opt/anaconda3/lib/python3.8/site-packages/psaw/PushshiftAPI.py:192: UserWarning: Got non 200 code 525\n",
      "  warnings.warn(\"Got non 200 code %s\" % response.status_code)\n"
     ]
    },
    {
     "name": "stdout",
     "output_type": "stream",
     "text": [
      "nottheonion subscribers: 19141918\n",
      "df_not_onion shape: (10000, 7)\n"
     ]
    },
    {
     "data": {
      "text/html": [
       "<div>\n",
       "<style scoped>\n",
       "    .dataframe tbody tr th:only-of-type {\n",
       "        vertical-align: middle;\n",
       "    }\n",
       "\n",
       "    .dataframe tbody tr th {\n",
       "        vertical-align: top;\n",
       "    }\n",
       "\n",
       "    .dataframe thead th {\n",
       "        text-align: right;\n",
       "    }\n",
       "</style>\n",
       "<table border=\"1\" class=\"dataframe\">\n",
       "  <thead>\n",
       "    <tr style=\"text-align: right;\">\n",
       "      <th></th>\n",
       "      <th>subreddit</th>\n",
       "      <th>author</th>\n",
       "      <th>domain</th>\n",
       "      <th>title</th>\n",
       "      <th>num_comments</th>\n",
       "      <th>score</th>\n",
       "      <th>timestamp</th>\n",
       "    </tr>\n",
       "  </thead>\n",
       "  <tbody>\n",
       "    <tr>\n",
       "      <th>0</th>\n",
       "      <td>nottheonion</td>\n",
       "      <td>polopiko</td>\n",
       "      <td>sickchirpse.com</td>\n",
       "      <td>Private School Teacher Banned After Taking Stu...</td>\n",
       "      <td>1</td>\n",
       "      <td>1</td>\n",
       "      <td>1619367026</td>\n",
       "    </tr>\n",
       "    <tr>\n",
       "      <th>1</th>\n",
       "      <td>nottheonion</td>\n",
       "      <td>Jonadrews</td>\n",
       "      <td>theguardian.com</td>\n",
       "      <td>Why parents are choosing to rent their kids’ c...</td>\n",
       "      <td>0</td>\n",
       "      <td>1</td>\n",
       "      <td>1619366855</td>\n",
       "    </tr>\n",
       "    <tr>\n",
       "      <th>2</th>\n",
       "      <td>nottheonion</td>\n",
       "      <td>jorga-k</td>\n",
       "      <td>squeekly.com</td>\n",
       "      <td>Russia considers ban on Czech beer amid recent...</td>\n",
       "      <td>0</td>\n",
       "      <td>1</td>\n",
       "      <td>1619365637</td>\n",
       "    </tr>\n",
       "    <tr>\n",
       "      <th>3</th>\n",
       "      <td>nottheonion</td>\n",
       "      <td>alwaysshitting</td>\n",
       "      <td>hindustantimes.com</td>\n",
       "      <td>Govt orders removal of posts on Covid-19, term...</td>\n",
       "      <td>0</td>\n",
       "      <td>1</td>\n",
       "      <td>1619365612</td>\n",
       "    </tr>\n",
       "    <tr>\n",
       "      <th>4</th>\n",
       "      <td>nottheonion</td>\n",
       "      <td>duzzy50</td>\n",
       "      <td>huffpost.com</td>\n",
       "      <td>Not plant based beer!</td>\n",
       "      <td>1</td>\n",
       "      <td>1</td>\n",
       "      <td>1619365131</td>\n",
       "    </tr>\n",
       "  </tbody>\n",
       "</table>\n",
       "</div>"
      ],
      "text/plain": [
       "     subreddit          author              domain  \\\n",
       "0  nottheonion        polopiko     sickchirpse.com   \n",
       "1  nottheonion       Jonadrews     theguardian.com   \n",
       "2  nottheonion         jorga-k        squeekly.com   \n",
       "3  nottheonion  alwaysshitting  hindustantimes.com   \n",
       "4  nottheonion         duzzy50        huffpost.com   \n",
       "\n",
       "                                               title  num_comments  score  \\\n",
       "0  Private School Teacher Banned After Taking Stu...             1      1   \n",
       "1  Why parents are choosing to rent their kids’ c...             0      1   \n",
       "2  Russia considers ban on Czech beer amid recent...             0      1   \n",
       "3  Govt orders removal of posts on Covid-19, term...             0      1   \n",
       "4                              Not plant based beer!             1      1   \n",
       "\n",
       "    timestamp  \n",
       "0  1619367026  \n",
       "1  1619366855  \n",
       "2  1619365637  \n",
       "3  1619365612  \n",
       "4  1619365131  "
      ]
     },
     "execution_count": 4,
     "metadata": {},
     "output_type": "execute_result"
    }
   ],
   "source": [
    "# Call function and create DataFrame\n",
    "df_not_onion = pd.DataFrame(scrape_data('nottheonion'))\n",
    "\n",
    "# Save data to csv\n",
    "df_not_onion.to_csv('./data/not_onion.csv')\n",
    "\n",
    "# Shape of DataFrame\n",
    "print(f'df_not_onion shape: {df_not_onion.shape}')\n",
    "\n",
    "# Show head\n",
    "df_not_onion.head()"
   ]
  },
  {
   "cell_type": "markdown",
   "metadata": {},
   "source": [
    "### Scrape r/TheOnion"
   ]
  },
  {
   "cell_type": "code",
   "execution_count": 5,
   "metadata": {},
   "outputs": [
    {
     "name": "stderr",
     "output_type": "stream",
     "text": [
      "/opt/anaconda3/lib/python3.8/site-packages/psaw/PushshiftAPI.py:192: UserWarning: Got non 200 code 525\n",
      "  warnings.warn(\"Got non 200 code %s\" % response.status_code)\n",
      "/opt/anaconda3/lib/python3.8/site-packages/psaw/PushshiftAPI.py:180: UserWarning: Unable to connect to pushshift.io. Retrying after backoff.\n",
      "  warnings.warn(\"Unable to connect to pushshift.io. Retrying after backoff.\")\n"
     ]
    },
    {
     "name": "stdout",
     "output_type": "stream",
     "text": [
      "theonion subscribers: 160719\n",
      "df_onion shape: (9978, 7)\n"
     ]
    },
    {
     "data": {
      "text/html": [
       "<div>\n",
       "<style scoped>\n",
       "    .dataframe tbody tr th:only-of-type {\n",
       "        vertical-align: middle;\n",
       "    }\n",
       "\n",
       "    .dataframe tbody tr th {\n",
       "        vertical-align: top;\n",
       "    }\n",
       "\n",
       "    .dataframe thead th {\n",
       "        text-align: right;\n",
       "    }\n",
       "</style>\n",
       "<table border=\"1\" class=\"dataframe\">\n",
       "  <thead>\n",
       "    <tr style=\"text-align: right;\">\n",
       "      <th></th>\n",
       "      <th>subreddit</th>\n",
       "      <th>author</th>\n",
       "      <th>domain</th>\n",
       "      <th>title</th>\n",
       "      <th>num_comments</th>\n",
       "      <th>score</th>\n",
       "      <th>timestamp</th>\n",
       "    </tr>\n",
       "  </thead>\n",
       "  <tbody>\n",
       "    <tr>\n",
       "      <th>0</th>\n",
       "      <td>TheOnion</td>\n",
       "      <td>IOFIFO</td>\n",
       "      <td>youtu.be</td>\n",
       "      <td>We Couldn't Get The Rights To \"Purple Rain,\" S...</td>\n",
       "      <td>1</td>\n",
       "      <td>1</td>\n",
       "      <td>1619300296</td>\n",
       "    </tr>\n",
       "    <tr>\n",
       "      <th>1</th>\n",
       "      <td>TheOnion</td>\n",
       "      <td>aresef</td>\n",
       "      <td>local.theonion.com</td>\n",
       "      <td>‘Top You Off?’ Asks Diner Waitress, Tipping Ca...</td>\n",
       "      <td>25</td>\n",
       "      <td>1</td>\n",
       "      <td>1619281718</td>\n",
       "    </tr>\n",
       "    <tr>\n",
       "      <th>2</th>\n",
       "      <td>TheOnion</td>\n",
       "      <td>BeefBaeby</td>\n",
       "      <td>dailyhive.com</td>\n",
       "      <td>911 is Already Getting Calls from People Askin...</td>\n",
       "      <td>2</td>\n",
       "      <td>1</td>\n",
       "      <td>1619240192</td>\n",
       "    </tr>\n",
       "    <tr>\n",
       "      <th>3</th>\n",
       "      <td>TheOnion</td>\n",
       "      <td>Sanlear</td>\n",
       "      <td>theonion.com</td>\n",
       "      <td>Tim Cook Unveils Air Fryer He Got For Christmas</td>\n",
       "      <td>0</td>\n",
       "      <td>1</td>\n",
       "      <td>1619204676</td>\n",
       "    </tr>\n",
       "    <tr>\n",
       "      <th>4</th>\n",
       "      <td>TheOnion</td>\n",
       "      <td>mothershipq</td>\n",
       "      <td>theonion.com</td>\n",
       "      <td>Nation’s Bald Citizens Band Together To Demand...</td>\n",
       "      <td>1</td>\n",
       "      <td>1</td>\n",
       "      <td>1619204304</td>\n",
       "    </tr>\n",
       "  </tbody>\n",
       "</table>\n",
       "</div>"
      ],
      "text/plain": [
       "  subreddit       author              domain  \\\n",
       "0  TheOnion       IOFIFO            youtu.be   \n",
       "1  TheOnion       aresef  local.theonion.com   \n",
       "2  TheOnion    BeefBaeby       dailyhive.com   \n",
       "3  TheOnion      Sanlear        theonion.com   \n",
       "4  TheOnion  mothershipq        theonion.com   \n",
       "\n",
       "                                               title  num_comments  score  \\\n",
       "0  We Couldn't Get The Rights To \"Purple Rain,\" S...             1      1   \n",
       "1  ‘Top You Off?’ Asks Diner Waitress, Tipping Ca...            25      1   \n",
       "2  911 is Already Getting Calls from People Askin...             2      1   \n",
       "3    Tim Cook Unveils Air Fryer He Got For Christmas             0      1   \n",
       "4  Nation’s Bald Citizens Band Together To Demand...             1      1   \n",
       "\n",
       "    timestamp  \n",
       "0  1619300296  \n",
       "1  1619281718  \n",
       "2  1619240192  \n",
       "3  1619204676  \n",
       "4  1619204304  "
      ]
     },
     "execution_count": 5,
     "metadata": {},
     "output_type": "execute_result"
    }
   ],
   "source": [
    "# Call function and create DataFrame\n",
    "df_onion = pd.DataFrame(scrape_data('theonion'))\n",
    "\n",
    "# Save data to csv\n",
    "df_onion.to_csv('./data/the_onion.csv')\n",
    "\n",
    "# Shape of DataFrame\n",
    "print(f'df_onion shape: {df_onion.shape}')\n",
    "\n",
    "# Show head\n",
    "df_onion.head()"
   ]
  },
  {
   "cell_type": "markdown",
   "metadata": {},
   "source": [
    "In total, **19,978** posts were scraped: **10k** from r/nottheonion and **9,978** from r/TheOnion. "
   ]
  },
  {
   "cell_type": "markdown",
   "metadata": {},
   "source": [
    "# Import Data"
   ]
  },
  {
   "cell_type": "code",
   "execution_count": 6,
   "metadata": {},
   "outputs": [],
   "source": [
    "# If you're running this notebook, you can begin with this cell as the data has already been saved to a csv\n",
    "\n",
    "# r/TheOnion DataFrame\n",
    "#df_onion = pd.read_csv('./data/the_onion.csv')\n",
    "\n",
    "# r/nottheonion DataFrame\n",
    "#df_not_onion = pd.read_csv('./data/not_onion.csv')"
   ]
  },
  {
   "cell_type": "markdown",
   "metadata": {},
   "source": [
    "### Preview `df_onion`"
   ]
  },
  {
   "cell_type": "code",
   "execution_count": 7,
   "metadata": {},
   "outputs": [],
   "source": [
    "# Show first 5 rows of df_onion\n",
    "#print(\"Shape:\", df_onion.shape)\n",
    "#df_onion.head()"
   ]
  },
  {
   "cell_type": "markdown",
   "metadata": {},
   "source": [
    "### Preview `df_not_onion`"
   ]
  },
  {
   "cell_type": "code",
   "execution_count": 8,
   "metadata": {},
   "outputs": [],
   "source": [
    "# Show first 5 rows of df_not_onion\n",
    "#print(\"Shape:\", df_not_onion.shape)\n",
    "#df_not_onion.head()"
   ]
  },
  {
   "cell_type": "markdown",
   "metadata": {},
   "source": [
    "# Clean Data"
   ]
  },
  {
   "cell_type": "markdown",
   "metadata": {},
   "source": [
    "### Data Cleaning Function"
   ]
  },
  {
   "cell_type": "code",
   "execution_count": 9,
   "metadata": {},
   "outputs": [],
   "source": [
    "def clean_data(dataframe):\n",
    "\n",
    "    # Drop duplicate rows\n",
    "    dataframe.drop_duplicates(subset='title', inplace=True)\n",
    "    \n",
    "    # Remove punctation\n",
    "    dataframe['title'] = dataframe['title'].str.replace('[^\\w\\s]',' ')\n",
    "\n",
    "    # Remove numbers \n",
    "    dataframe['title'] = dataframe['title'].str.replace('[^A-Za-z]',' ')\n",
    "\n",
    "    # Make sure any double-spaces are single \n",
    "    dataframe['title'] = dataframe['title'].str.replace('  ',' ')\n",
    "    dataframe['title'] = dataframe['title'].str.replace('  ',' ')\n",
    "\n",
    "    # Transform all text to lowercase\n",
    "    dataframe['title'] = dataframe['title'].str.lower()\n",
    "    \n",
    "    print(\"New shape:\", dataframe.shape)\n",
    "    return dataframe.head()"
   ]
  },
  {
   "cell_type": "markdown",
   "metadata": {},
   "source": [
    "### Clean `df_onion`"
   ]
  },
  {
   "cell_type": "code",
   "execution_count": 10,
   "metadata": {},
   "outputs": [
    {
     "name": "stdout",
     "output_type": "stream",
     "text": [
      "New shape: (9043, 7)\n"
     ]
    },
    {
     "data": {
      "text/html": [
       "<div>\n",
       "<style scoped>\n",
       "    .dataframe tbody tr th:only-of-type {\n",
       "        vertical-align: middle;\n",
       "    }\n",
       "\n",
       "    .dataframe tbody tr th {\n",
       "        vertical-align: top;\n",
       "    }\n",
       "\n",
       "    .dataframe thead th {\n",
       "        text-align: right;\n",
       "    }\n",
       "</style>\n",
       "<table border=\"1\" class=\"dataframe\">\n",
       "  <thead>\n",
       "    <tr style=\"text-align: right;\">\n",
       "      <th></th>\n",
       "      <th>subreddit</th>\n",
       "      <th>author</th>\n",
       "      <th>domain</th>\n",
       "      <th>title</th>\n",
       "      <th>num_comments</th>\n",
       "      <th>score</th>\n",
       "      <th>timestamp</th>\n",
       "    </tr>\n",
       "  </thead>\n",
       "  <tbody>\n",
       "    <tr>\n",
       "      <th>0</th>\n",
       "      <td>TheOnion</td>\n",
       "      <td>IOFIFO</td>\n",
       "      <td>youtu.be</td>\n",
       "      <td>we couldn t get the rights to purple rain so w...</td>\n",
       "      <td>1</td>\n",
       "      <td>1</td>\n",
       "      <td>1619300296</td>\n",
       "    </tr>\n",
       "    <tr>\n",
       "      <th>1</th>\n",
       "      <td>TheOnion</td>\n",
       "      <td>aresef</td>\n",
       "      <td>local.theonion.com</td>\n",
       "      <td>top you off asks diner waitress tipping caraf...</td>\n",
       "      <td>25</td>\n",
       "      <td>1</td>\n",
       "      <td>1619281718</td>\n",
       "    </tr>\n",
       "    <tr>\n",
       "      <th>2</th>\n",
       "      <td>TheOnion</td>\n",
       "      <td>BeefBaeby</td>\n",
       "      <td>dailyhive.com</td>\n",
       "      <td>is already getting calls from people asking a...</td>\n",
       "      <td>2</td>\n",
       "      <td>1</td>\n",
       "      <td>1619240192</td>\n",
       "    </tr>\n",
       "    <tr>\n",
       "      <th>3</th>\n",
       "      <td>TheOnion</td>\n",
       "      <td>Sanlear</td>\n",
       "      <td>theonion.com</td>\n",
       "      <td>tim cook unveils air fryer he got for christmas</td>\n",
       "      <td>0</td>\n",
       "      <td>1</td>\n",
       "      <td>1619204676</td>\n",
       "    </tr>\n",
       "    <tr>\n",
       "      <th>4</th>\n",
       "      <td>TheOnion</td>\n",
       "      <td>mothershipq</td>\n",
       "      <td>theonion.com</td>\n",
       "      <td>nation s bald citizens band together to demand...</td>\n",
       "      <td>1</td>\n",
       "      <td>1</td>\n",
       "      <td>1619204304</td>\n",
       "    </tr>\n",
       "  </tbody>\n",
       "</table>\n",
       "</div>"
      ],
      "text/plain": [
       "  subreddit       author              domain  \\\n",
       "0  TheOnion       IOFIFO            youtu.be   \n",
       "1  TheOnion       aresef  local.theonion.com   \n",
       "2  TheOnion    BeefBaeby       dailyhive.com   \n",
       "3  TheOnion      Sanlear        theonion.com   \n",
       "4  TheOnion  mothershipq        theonion.com   \n",
       "\n",
       "                                               title  num_comments  score  \\\n",
       "0  we couldn t get the rights to purple rain so w...             1      1   \n",
       "1   top you off asks diner waitress tipping caraf...            25      1   \n",
       "2   is already getting calls from people asking a...             2      1   \n",
       "3    tim cook unveils air fryer he got for christmas             0      1   \n",
       "4  nation s bald citizens band together to demand...             1      1   \n",
       "\n",
       "    timestamp  \n",
       "0  1619300296  \n",
       "1  1619281718  \n",
       "2  1619240192  \n",
       "3  1619204676  \n",
       "4  1619204304  "
      ]
     },
     "execution_count": 10,
     "metadata": {},
     "output_type": "execute_result"
    }
   ],
   "source": [
    "# Call `clean_data(dataframe)` function\n",
    "clean_data(df_onion)"
   ]
  },
  {
   "cell_type": "markdown",
   "metadata": {},
   "source": [
    "2935 rows from df_union are dropped because of duplication."
   ]
  },
  {
   "cell_type": "code",
   "execution_count": 11,
   "metadata": {},
   "outputs": [
    {
     "data": {
      "text/plain": [
       "0"
      ]
     },
     "execution_count": 11,
     "metadata": {},
     "output_type": "execute_result"
    }
   ],
   "source": [
    "df_onion[\"title\"].isnull().sum() # title is our target column. I check whether there are missing values for title."
   ]
  },
  {
   "cell_type": "markdown",
   "metadata": {},
   "source": [
    "### Clean `df_not_onion`"
   ]
  },
  {
   "cell_type": "code",
   "execution_count": 12,
   "metadata": {},
   "outputs": [
    {
     "name": "stdout",
     "output_type": "stream",
     "text": [
      "New shape: (7977, 7)\n"
     ]
    },
    {
     "data": {
      "text/html": [
       "<div>\n",
       "<style scoped>\n",
       "    .dataframe tbody tr th:only-of-type {\n",
       "        vertical-align: middle;\n",
       "    }\n",
       "\n",
       "    .dataframe tbody tr th {\n",
       "        vertical-align: top;\n",
       "    }\n",
       "\n",
       "    .dataframe thead th {\n",
       "        text-align: right;\n",
       "    }\n",
       "</style>\n",
       "<table border=\"1\" class=\"dataframe\">\n",
       "  <thead>\n",
       "    <tr style=\"text-align: right;\">\n",
       "      <th></th>\n",
       "      <th>subreddit</th>\n",
       "      <th>author</th>\n",
       "      <th>domain</th>\n",
       "      <th>title</th>\n",
       "      <th>num_comments</th>\n",
       "      <th>score</th>\n",
       "      <th>timestamp</th>\n",
       "    </tr>\n",
       "  </thead>\n",
       "  <tbody>\n",
       "    <tr>\n",
       "      <th>0</th>\n",
       "      <td>nottheonion</td>\n",
       "      <td>polopiko</td>\n",
       "      <td>sickchirpse.com</td>\n",
       "      <td>private school teacher banned after taking stu...</td>\n",
       "      <td>1</td>\n",
       "      <td>1</td>\n",
       "      <td>1619367026</td>\n",
       "    </tr>\n",
       "    <tr>\n",
       "      <th>1</th>\n",
       "      <td>nottheonion</td>\n",
       "      <td>Jonadrews</td>\n",
       "      <td>theguardian.com</td>\n",
       "      <td>why parents are choosing to rent their kids cl...</td>\n",
       "      <td>0</td>\n",
       "      <td>1</td>\n",
       "      <td>1619366855</td>\n",
       "    </tr>\n",
       "    <tr>\n",
       "      <th>2</th>\n",
       "      <td>nottheonion</td>\n",
       "      <td>jorga-k</td>\n",
       "      <td>squeekly.com</td>\n",
       "      <td>russia considers ban on czech beer amid recent...</td>\n",
       "      <td>0</td>\n",
       "      <td>1</td>\n",
       "      <td>1619365637</td>\n",
       "    </tr>\n",
       "    <tr>\n",
       "      <th>3</th>\n",
       "      <td>nottheonion</td>\n",
       "      <td>alwaysshitting</td>\n",
       "      <td>hindustantimes.com</td>\n",
       "      <td>govt orders removal of posts on covid  terms i...</td>\n",
       "      <td>0</td>\n",
       "      <td>1</td>\n",
       "      <td>1619365612</td>\n",
       "    </tr>\n",
       "    <tr>\n",
       "      <th>4</th>\n",
       "      <td>nottheonion</td>\n",
       "      <td>duzzy50</td>\n",
       "      <td>huffpost.com</td>\n",
       "      <td>not plant based beer</td>\n",
       "      <td>1</td>\n",
       "      <td>1</td>\n",
       "      <td>1619365131</td>\n",
       "    </tr>\n",
       "  </tbody>\n",
       "</table>\n",
       "</div>"
      ],
      "text/plain": [
       "     subreddit          author              domain  \\\n",
       "0  nottheonion        polopiko     sickchirpse.com   \n",
       "1  nottheonion       Jonadrews     theguardian.com   \n",
       "2  nottheonion         jorga-k        squeekly.com   \n",
       "3  nottheonion  alwaysshitting  hindustantimes.com   \n",
       "4  nottheonion         duzzy50        huffpost.com   \n",
       "\n",
       "                                               title  num_comments  score  \\\n",
       "0  private school teacher banned after taking stu...             1      1   \n",
       "1  why parents are choosing to rent their kids cl...             0      1   \n",
       "2  russia considers ban on czech beer amid recent...             0      1   \n",
       "3  govt orders removal of posts on covid  terms i...             0      1   \n",
       "4                              not plant based beer              1      1   \n",
       "\n",
       "    timestamp  \n",
       "0  1619367026  \n",
       "1  1619366855  \n",
       "2  1619365637  \n",
       "3  1619365612  \n",
       "4  1619365131  "
      ]
     },
     "execution_count": 12,
     "metadata": {},
     "output_type": "execute_result"
    }
   ],
   "source": [
    "# Call `clean_data(dataframe)` function\n",
    "clean_data(df_not_onion)"
   ]
  },
  {
   "cell_type": "markdown",
   "metadata": {},
   "source": [
    "4016 rows from df_not_onion are dropped."
   ]
  },
  {
   "cell_type": "markdown",
   "metadata": {},
   "source": [
    "### Check Nulls"
   ]
  },
  {
   "cell_type": "code",
   "execution_count": 13,
   "metadata": {
    "scrolled": true
   },
   "outputs": [
    {
     "data": {
      "text/html": [
       "<div>\n",
       "<style scoped>\n",
       "    .dataframe tbody tr th:only-of-type {\n",
       "        vertical-align: middle;\n",
       "    }\n",
       "\n",
       "    .dataframe tbody tr th {\n",
       "        vertical-align: top;\n",
       "    }\n",
       "\n",
       "    .dataframe thead th {\n",
       "        text-align: right;\n",
       "    }\n",
       "</style>\n",
       "<table border=\"1\" class=\"dataframe\">\n",
       "  <thead>\n",
       "    <tr style=\"text-align: right;\">\n",
       "      <th></th>\n",
       "      <th>TheOnion</th>\n",
       "      <th>notheonion</th>\n",
       "    </tr>\n",
       "  </thead>\n",
       "  <tbody>\n",
       "    <tr>\n",
       "      <th>subreddit</th>\n",
       "      <td>0</td>\n",
       "      <td>0</td>\n",
       "    </tr>\n",
       "    <tr>\n",
       "      <th>author</th>\n",
       "      <td>0</td>\n",
       "      <td>0</td>\n",
       "    </tr>\n",
       "    <tr>\n",
       "      <th>domain</th>\n",
       "      <td>0</td>\n",
       "      <td>0</td>\n",
       "    </tr>\n",
       "    <tr>\n",
       "      <th>title</th>\n",
       "      <td>0</td>\n",
       "      <td>0</td>\n",
       "    </tr>\n",
       "    <tr>\n",
       "      <th>num_comments</th>\n",
       "      <td>0</td>\n",
       "      <td>0</td>\n",
       "    </tr>\n",
       "    <tr>\n",
       "      <th>score</th>\n",
       "      <td>0</td>\n",
       "      <td>0</td>\n",
       "    </tr>\n",
       "    <tr>\n",
       "      <th>timestamp</th>\n",
       "      <td>0</td>\n",
       "      <td>0</td>\n",
       "    </tr>\n",
       "  </tbody>\n",
       "</table>\n",
       "</div>"
      ],
      "text/plain": [
       "              TheOnion  notheonion\n",
       "subreddit            0           0\n",
       "author               0           0\n",
       "domain               0           0\n",
       "title                0           0\n",
       "num_comments         0           0\n",
       "score                0           0\n",
       "timestamp            0           0"
      ]
     },
     "execution_count": 13,
     "metadata": {},
     "output_type": "execute_result"
    }
   ],
   "source": [
    "# Create a DataFrame to check nulls\n",
    "pd.DataFrame([df_onion.isnull().sum(),df_not_onion.isnull().sum()], index=[\"TheOnion\",\"notheonion\"]).T"
   ]
  },
  {
   "cell_type": "markdown",
   "metadata": {},
   "source": [
    "# Exploratory Data Analysis (EDA)"
   ]
  },
  {
   "cell_type": "markdown",
   "metadata": {},
   "source": [
    "### Date Range of Scraped Posts"
   ]
  },
  {
   "cell_type": "code",
   "execution_count": 14,
   "metadata": {},
   "outputs": [
    {
     "name": "stdout",
     "output_type": "stream",
     "text": [
      "TheOnion start date: 2018-04-13 20:51:11\n",
      "TheOnion end date: 2021-04-24 21:38:16\n",
      "nottheonion start date: 2021-02-10 18:49:10\n",
      "nottheonion end date: 2021-04-25 16:10:26\n"
     ]
    }
   ],
   "source": [
    "# Convert Unix Timestamp to Datetime\n",
    "df_onion['timestamp'] = pd.to_datetime(df_onion['timestamp'], unit='s')\n",
    "df_not_onion['timestamp'] = pd.to_datetime(df_not_onion['timestamp'], unit='s')\n",
    "\n",
    "# Show date-range of posts scraped from r/TheOnion and r/nottheonion\n",
    "print(\"TheOnion start date:\", df_onion['timestamp'].min())\n",
    "print(\"TheOnion end date:\", df_onion['timestamp'].max())\n",
    "print(\"nottheonion start date:\", df_not_onion['timestamp'].min())\n",
    "print(\"nottheonion end date:\", df_not_onion['timestamp'].max())"
   ]
  },
  {
   "cell_type": "markdown",
   "metadata": {},
   "source": [
    "### Bar Plot Function"
   ]
  },
  {
   "cell_type": "code",
   "execution_count": 15,
   "metadata": {},
   "outputs": [],
   "source": [
    "def bar_plot(x, y, title, color):    \n",
    "    \n",
    "    # Set up barplot \n",
    "    plt.figure(figsize=(9,5))\n",
    "    g=sns.barplot(x, y, color = color)    \n",
    "    ax=g\n",
    "\n",
    "    # Label the graph\n",
    "    plt.title(title, fontsize = 15)\n",
    "    plt.xticks(fontsize = 10)\n",
    "\n",
    "    # Enable bar values\n",
    "    # create a list to collect the plt.patches data\n",
    "    totals = []\n",
    "\n",
    "    # find the values and append to list\n",
    "    for p in ax.patches:\n",
    "        totals.append(p.get_width())\n",
    "\n",
    "    # set individual bar lables using above list\n",
    "    total = sum(totals)\n",
    "\n",
    "    # set individual bar lables using above list\n",
    "    for p in ax.patches:\n",
    "        # get_width pulls left or right; get_y pushes up or down\n",
    "        ax.text(p.get_width()+.3, p.get_y()+.38, \\\n",
    "                int(p.get_width()), fontsize=10)"
   ]
  },
  {
   "cell_type": "markdown",
   "metadata": {},
   "source": [
    "### r/TheOnion: Most Active Authors"
   ]
  },
  {
   "cell_type": "code",
   "execution_count": 16,
   "metadata": {},
   "outputs": [
    {
     "name": "stderr",
     "output_type": "stream",
     "text": [
      "/opt/anaconda3/lib/python3.8/site-packages/seaborn/_decorators.py:36: FutureWarning: Pass the following variables as keyword args: x, y. From version 0.12, the only valid positional argument will be `data`, and passing other arguments without an explicit keyword will result in an error or misinterpretation.\n",
      "  warnings.warn(\n"
     ]
    },
    {
     "data": {
      "image/png": "[encoded data removed]",
      "text/plain": [
       "<Figure size 648x360 with 1 Axes>"
      ]
     },
     "metadata": {
      "image/png": {
       "height": 320,
       "width": 617
      },
      "needs_background": "light"
     },
     "output_type": "display_data"
    }
   ],
   "source": [
    "# Set x values: # of posts \n",
    "df_onion_authors = df_onion['author'].value_counts() \n",
    "df_onion_authors = df_onion_authors[df_onion_authors > 50].sort_values(ascending=False)\n",
    "\n",
    "# Set y values: Authors \n",
    "df_onion_authors_index = list(df_onion_authors.index)\n",
    "\n",
    "# Call function\n",
    "bar_plot(df_onion_authors.values, df_onion_authors_index, 'Most Active Authors: r/TheOnion', 'r') "
   ]
  },
  {
   "cell_type": "markdown",
   "metadata": {},
   "source": [
    "r/TheOnion has only 160k subscribers, but 10 authors shared over 50 posts, the most being 1,712 posts."
   ]
  },
  {
   "cell_type": "markdown",
   "metadata": {},
   "source": [
    "### r/nottheonion: Most Active Authors"
   ]
  },
  {
   "cell_type": "code",
   "execution_count": 17,
   "metadata": {},
   "outputs": [
    {
     "name": "stderr",
     "output_type": "stream",
     "text": [
      "/opt/anaconda3/lib/python3.8/site-packages/seaborn/_decorators.py:36: FutureWarning: Pass the following variables as keyword args: x, y. From version 0.12, the only valid positional argument will be `data`, and passing other arguments without an explicit keyword will result in an error or misinterpretation.\n",
      "  warnings.warn(\n"
     ]
    },
    {
     "data": {
      "image/png": "[encoded data removed]",
      "text/plain": [
       "<Figure size 648x360 with 1 Axes>"
      ]
     },
     "metadata": {
      "image/png": {
       "height": 320,
       "width": 599
      },
      "needs_background": "light"
     },
     "output_type": "display_data"
    }
   ],
   "source": [
    "# Set x values: # of posts\n",
    "df_not_onion_authors = df_not_onion['author'].value_counts() \n",
    "df_not_onion_authors = df_not_onion_authors[df_not_onion_authors > 50].sort_values(ascending=False)\n",
    "\n",
    "# Set y values: Authors\n",
    "df_not_onion_authors_index = list(df_not_onion_authors.index)\n",
    "\n",
    "# Call function\n",
    "bar_plot(df_not_onion_authors.values, df_not_onion_authors_index, 'Most Active Authors: r/nottheonion','b') "
   ]
  },
  {
   "cell_type": "markdown",
   "metadata": {},
   "source": [
    "r/nottheonion has 19.1 m subscribers, and only 3 authors shared over 50 posts.   "
   ]
  },
  {
   "cell_type": "markdown",
   "metadata": {},
   "source": [
    "### r/TheOnion: Most Referenced Domains"
   ]
  },
  {
   "cell_type": "code",
   "execution_count": 18,
   "metadata": {},
   "outputs": [
    {
     "name": "stderr",
     "output_type": "stream",
     "text": [
      "/opt/anaconda3/lib/python3.8/site-packages/seaborn/_decorators.py:36: FutureWarning: Pass the following variables as keyword args: x, y. From version 0.12, the only valid positional argument will be `data`, and passing other arguments without an explicit keyword will result in an error or misinterpretation.\n",
      "  warnings.warn(\n"
     ]
    },
    {
     "data": {
      "image/png": "[encoded data removed]",
      "text/plain": [
       "<Figure size 648x360 with 1 Axes>"
      ]
     },
     "metadata": {
      "image/png": {
       "height": 320,
       "width": 669
      },
      "needs_background": "light"
     },
     "output_type": "display_data"
    }
   ],
   "source": [
    "# Set x values: # of posts\n",
    "df_onion_domain = df_onion['domain'].value_counts() \n",
    "df_onion_domain = df_onion_domain.sort_values(ascending=False).head(5)\n",
    "\n",
    "# Set y values: Domains \n",
    "df_onion_domain_index = list(df_onion_domain.index)\n",
    "\n",
    "# Call function\n",
    "bar_plot(df_onion_domain.values, df_onion_domain_index, 'Most Referenced Domains: r/TheOnion','r') "
   ]
  },
  {
   "cell_type": "markdown",
   "metadata": {},
   "source": [
    "Unsurprisingly, the most referenced domains from r/TheOnion are from The Onion. This subreddit allows articles from other news satire sites to be shared here as well."
   ]
  },
  {
   "cell_type": "markdown",
   "metadata": {},
   "source": [
    "### r/nottheonion: Most Referenced Domains"
   ]
  },
  {
   "cell_type": "code",
   "execution_count": 19,
   "metadata": {},
   "outputs": [
    {
     "name": "stderr",
     "output_type": "stream",
     "text": [
      "/opt/anaconda3/lib/python3.8/site-packages/seaborn/_decorators.py:36: FutureWarning: Pass the following variables as keyword args: x, y. From version 0.12, the only valid positional argument will be `data`, and passing other arguments without an explicit keyword will result in an error or misinterpretation.\n",
      "  warnings.warn(\n"
     ]
    },
    {
     "data": {
      "image/png": "[encoded data removed]",
      "text/plain": [
       "<Figure size 648x360 with 1 Axes>"
      ]
     },
     "metadata": {
      "image/png": {
       "height": 320,
       "width": 616
      },
      "needs_background": "light"
     },
     "output_type": "display_data"
    }
   ],
   "source": [
    "# Set x values: # of posts greater than 100\n",
    "df_nonion_domain = df_not_onion['domain'].value_counts() \n",
    "df_nonion_domain = df_nonion_domain.sort_values(ascending=False).head(5)\n",
    "\n",
    "# Set y values: Names of authors \n",
    "df_nonion_domain_index = list(df_nonion_domain.index)\n",
    "\n",
    "# Call function\n",
    "bar_plot(df_nonion_domain.values, df_nonion_domain_index, 'Most Referenced Domains: r/nottheonion','b') "
   ]
  },
  {
   "cell_type": "markdown",
   "metadata": {},
   "source": [
    "Also unsurprisingly, theguardian.com is the most referenced domain in r/nottheonion! "
   ]
  },
  {
   "cell_type": "markdown",
   "metadata": {},
   "source": [
    "# Natural Language Processing (NLP)"
   ]
  },
  {
   "cell_type": "markdown",
   "metadata": {},
   "source": [
    "Here I use Count Vectorizer to continue my EDA and explore the most used words and combinations of words from each subreddit. "
   ]
  },
  {
   "cell_type": "markdown",
   "metadata": {},
   "source": [
    "### Concatenate DataFrames"
   ]
  },
  {
   "cell_type": "code",
   "execution_count": 20,
   "metadata": {},
   "outputs": [
    {
     "data": {
      "text/html": [
       "<div>\n",
       "<style scoped>\n",
       "    .dataframe tbody tr th:only-of-type {\n",
       "        vertical-align: middle;\n",
       "    }\n",
       "\n",
       "    .dataframe tbody tr th {\n",
       "        vertical-align: top;\n",
       "    }\n",
       "\n",
       "    .dataframe thead th {\n",
       "        text-align: right;\n",
       "    }\n",
       "</style>\n",
       "<table border=\"1\" class=\"dataframe\">\n",
       "  <thead>\n",
       "    <tr style=\"text-align: right;\">\n",
       "      <th></th>\n",
       "      <th>subreddit</th>\n",
       "      <th>title</th>\n",
       "    </tr>\n",
       "  </thead>\n",
       "  <tbody>\n",
       "    <tr>\n",
       "      <th>0</th>\n",
       "      <td>TheOnion</td>\n",
       "      <td>we couldn t get the rights to purple rain so w...</td>\n",
       "    </tr>\n",
       "    <tr>\n",
       "      <th>1</th>\n",
       "      <td>TheOnion</td>\n",
       "      <td>top you off asks diner waitress tipping caraf...</td>\n",
       "    </tr>\n",
       "  </tbody>\n",
       "</table>\n",
       "</div>"
      ],
      "text/plain": [
       "  subreddit                                              title\n",
       "0  TheOnion  we couldn t get the rights to purple rain so w...\n",
       "1  TheOnion   top you off asks diner waitress tipping caraf..."
      ]
     },
     "execution_count": 20,
     "metadata": {},
     "output_type": "execute_result"
    }
   ],
   "source": [
    "# Combine df_onion & df_not_onion with only 'subreddit' (target) and 'title' (predictor) columns\n",
    "df = pd.concat([df_onion[['subreddit', 'title']], df_not_onion[['subreddit', 'title']]], axis=0)\n",
    "\n",
    "#Reset the index\n",
    "df = df.reset_index(drop=True)\n",
    "\n",
    "# Preview head of df to show 'TheOnion' titles appear\n",
    "df.head(2)"
   ]
  },
  {
   "cell_type": "code",
   "execution_count": 21,
   "metadata": {},
   "outputs": [
    {
     "data": {
      "text/html": [
       "<div>\n",
       "<style scoped>\n",
       "    .dataframe tbody tr th:only-of-type {\n",
       "        vertical-align: middle;\n",
       "    }\n",
       "\n",
       "    .dataframe tbody tr th {\n",
       "        vertical-align: top;\n",
       "    }\n",
       "\n",
       "    .dataframe thead th {\n",
       "        text-align: right;\n",
       "    }\n",
       "</style>\n",
       "<table border=\"1\" class=\"dataframe\">\n",
       "  <thead>\n",
       "    <tr style=\"text-align: right;\">\n",
       "      <th></th>\n",
       "      <th>subreddit</th>\n",
       "      <th>title</th>\n",
       "    </tr>\n",
       "  </thead>\n",
       "  <tbody>\n",
       "    <tr>\n",
       "      <th>17018</th>\n",
       "      <td>nottheonion</td>\n",
       "      <td>conservationists plead with public to stop mil...</td>\n",
       "    </tr>\n",
       "    <tr>\n",
       "      <th>17019</th>\n",
       "      <td>nottheonion</td>\n",
       "      <td>no defends taxpayer funded photos of pm s dog ...</td>\n",
       "    </tr>\n",
       "  </tbody>\n",
       "</table>\n",
       "</div>"
      ],
      "text/plain": [
       "         subreddit                                              title\n",
       "17018  nottheonion  conservationists plead with public to stop mil...\n",
       "17019  nottheonion  no defends taxpayer funded photos of pm s dog ..."
      ]
     },
     "execution_count": 21,
     "metadata": {},
     "output_type": "execute_result"
    }
   ],
   "source": [
    "# Preview head of df to show 'nottheonion' titles appear\n",
    "df.tail(2)"
   ]
  },
  {
   "cell_type": "markdown",
   "metadata": {},
   "source": [
    "### Binarize Target `subreddit`\n",
    " - `TheOnion`: 1\n",
    " - `nottheonion`: 0"
   ]
  },
  {
   "cell_type": "code",
   "execution_count": 22,
   "metadata": {
    "scrolled": true
   },
   "outputs": [
    {
     "name": "stdout",
     "output_type": "stream",
     "text": [
      "(17020, 2)\n"
     ]
    },
    {
     "data": {
      "text/html": [
       "<div>\n",
       "<style scoped>\n",
       "    .dataframe tbody tr th:only-of-type {\n",
       "        vertical-align: middle;\n",
       "    }\n",
       "\n",
       "    .dataframe tbody tr th {\n",
       "        vertical-align: top;\n",
       "    }\n",
       "\n",
       "    .dataframe thead th {\n",
       "        text-align: right;\n",
       "    }\n",
       "</style>\n",
       "<table border=\"1\" class=\"dataframe\">\n",
       "  <thead>\n",
       "    <tr style=\"text-align: right;\">\n",
       "      <th></th>\n",
       "      <th>subreddit</th>\n",
       "      <th>title</th>\n",
       "    </tr>\n",
       "  </thead>\n",
       "  <tbody>\n",
       "    <tr>\n",
       "      <th>0</th>\n",
       "      <td>1</td>\n",
       "      <td>we couldn t get the rights to purple rain so w...</td>\n",
       "    </tr>\n",
       "    <tr>\n",
       "      <th>1</th>\n",
       "      <td>1</td>\n",
       "      <td>top you off asks diner waitress tipping caraf...</td>\n",
       "    </tr>\n",
       "  </tbody>\n",
       "</table>\n",
       "</div>"
      ],
      "text/plain": [
       "   subreddit                                              title\n",
       "0          1  we couldn t get the rights to purple rain so w...\n",
       "1          1   top you off asks diner waitress tipping caraf..."
      ]
     },
     "execution_count": 22,
     "metadata": {},
     "output_type": "execute_result"
    }
   ],
   "source": [
    "# Replace `TheOnion` with 1, `nottheonion` with 0\n",
    "df[\"subreddit\"] = df[\"subreddit\"].map({\"nottheonion\": 0, \"TheOnion\": 1})\n",
    "\n",
    "# Print shape of df\n",
    "print(df.shape)\n",
    "\n",
    "# Preview head of df to show 1s\n",
    "df.head(2)"
   ]
  },
  {
   "cell_type": "code",
   "execution_count": 23,
   "metadata": {
    "scrolled": true
   },
   "outputs": [
    {
     "data": {
      "text/html": [
       "<div>\n",
       "<style scoped>\n",
       "    .dataframe tbody tr th:only-of-type {\n",
       "        vertical-align: middle;\n",
       "    }\n",
       "\n",
       "    .dataframe tbody tr th {\n",
       "        vertical-align: top;\n",
       "    }\n",
       "\n",
       "    .dataframe thead th {\n",
       "        text-align: right;\n",
       "    }\n",
       "</style>\n",
       "<table border=\"1\" class=\"dataframe\">\n",
       "  <thead>\n",
       "    <tr style=\"text-align: right;\">\n",
       "      <th></th>\n",
       "      <th>subreddit</th>\n",
       "      <th>title</th>\n",
       "    </tr>\n",
       "  </thead>\n",
       "  <tbody>\n",
       "    <tr>\n",
       "      <th>17018</th>\n",
       "      <td>0</td>\n",
       "      <td>conservationists plead with public to stop mil...</td>\n",
       "    </tr>\n",
       "    <tr>\n",
       "      <th>17019</th>\n",
       "      <td>0</td>\n",
       "      <td>no defends taxpayer funded photos of pm s dog ...</td>\n",
       "    </tr>\n",
       "  </tbody>\n",
       "</table>\n",
       "</div>"
      ],
      "text/plain": [
       "       subreddit                                              title\n",
       "17018          0  conservationists plead with public to stop mil...\n",
       "17019          0  no defends taxpayer funded photos of pm s dog ..."
      ]
     },
     "execution_count": 23,
     "metadata": {},
     "output_type": "execute_result"
    }
   ],
   "source": [
    "# Preview tail of df to show 0s\n",
    "df.tail(2)"
   ]
  },
  {
   "cell_type": "code",
   "execution_count": 24,
   "metadata": {},
   "outputs": [
    {
     "data": {
      "text/html": [
       "<div>\n",
       "<style scoped>\n",
       "    .dataframe tbody tr th:only-of-type {\n",
       "        vertical-align: middle;\n",
       "    }\n",
       "\n",
       "    .dataframe tbody tr th {\n",
       "        vertical-align: top;\n",
       "    }\n",
       "\n",
       "    .dataframe thead th {\n",
       "        text-align: right;\n",
       "    }\n",
       "</style>\n",
       "<table border=\"1\" class=\"dataframe\">\n",
       "  <thead>\n",
       "    <tr style=\"text-align: right;\">\n",
       "      <th></th>\n",
       "      <th>subreddit</th>\n",
       "      <th>title</th>\n",
       "    </tr>\n",
       "  </thead>\n",
       "  <tbody>\n",
       "    <tr>\n",
       "      <th>13198</th>\n",
       "      <td>0</td>\n",
       "      <td>announcer at girls high school basketball game...</td>\n",
       "    </tr>\n",
       "    <tr>\n",
       "      <th>2848</th>\n",
       "      <td>1</td>\n",
       "      <td>new iphone has built in full size polaroid cam...</td>\n",
       "    </tr>\n",
       "    <tr>\n",
       "      <th>10315</th>\n",
       "      <td>0</td>\n",
       "      <td>bezos says amazon workers aren t treated like ...</td>\n",
       "    </tr>\n",
       "    <tr>\n",
       "      <th>15383</th>\n",
       "      <td>0</td>\n",
       "      <td>coca cola wants employees to be less white</td>\n",
       "    </tr>\n",
       "    <tr>\n",
       "      <th>2041</th>\n",
       "      <td>1</td>\n",
       "      <td>don t tell me you ve never wondered what yoda ...</td>\n",
       "    </tr>\n",
       "    <tr>\n",
       "      <th>13147</th>\n",
       "      <td>0</td>\n",
       "      <td>announcer cites low blood sugar for making rac...</td>\n",
       "    </tr>\n",
       "    <tr>\n",
       "      <th>12642</th>\n",
       "      <td>0</td>\n",
       "      <td>uber says it will treat uk drivers as workers ...</td>\n",
       "    </tr>\n",
       "    <tr>\n",
       "      <th>4040</th>\n",
       "      <td>1</td>\n",
       "      <td>christian bale loses years for upcoming movie ...</td>\n",
       "    </tr>\n",
       "    <tr>\n",
       "      <th>4663</th>\n",
       "      <td>1</td>\n",
       "      <td>man competitive about how depressed he is</td>\n",
       "    </tr>\n",
       "    <tr>\n",
       "      <th>510</th>\n",
       "      <td>1</td>\n",
       "      <td>your honor i m ready to present says giuliani...</td>\n",
       "    </tr>\n",
       "    <tr>\n",
       "      <th>5439</th>\n",
       "      <td>1</td>\n",
       "      <td>mall santa crying hysterically in photo with t...</td>\n",
       "    </tr>\n",
       "    <tr>\n",
       "      <th>5615</th>\n",
       "      <td>1</td>\n",
       "      <td>it s the real me nigerian president denies dy...</td>\n",
       "    </tr>\n",
       "    <tr>\n",
       "      <th>16847</th>\n",
       "      <td>0</td>\n",
       "      <td>georgia substitute teacher arrested for child ...</td>\n",
       "    </tr>\n",
       "    <tr>\n",
       "      <th>689</th>\n",
       "      <td>1</td>\n",
       "      <td>your horoscopes week of september</td>\n",
       "    </tr>\n",
       "    <tr>\n",
       "      <th>1522</th>\n",
       "      <td>1</td>\n",
       "      <td>protesters demand states reopen notice spike i...</td>\n",
       "    </tr>\n",
       "    <tr>\n",
       "      <th>770</th>\n",
       "      <td>1</td>\n",
       "      <td>announcement we re proud to announce the onion...</td>\n",
       "    </tr>\n",
       "    <tr>\n",
       "      <th>16761</th>\n",
       "      <td>0</td>\n",
       "      <td>la times columnist blasted for comparing trump...</td>\n",
       "    </tr>\n",
       "    <tr>\n",
       "      <th>15583</th>\n",
       "      <td>0</td>\n",
       "      <td>leaders of us capitol attack linked to syrian ...</td>\n",
       "    </tr>\n",
       "    <tr>\n",
       "      <th>1011</th>\n",
       "      <td>1</td>\n",
       "      <td>couple spices up love life by adding sex into ...</td>\n",
       "    </tr>\n",
       "    <tr>\n",
       "      <th>5674</th>\n",
       "      <td>1</td>\n",
       "      <td>if i die i want you to tell my wife i wasn t r...</td>\n",
       "    </tr>\n",
       "  </tbody>\n",
       "</table>\n",
       "</div>"
      ],
      "text/plain": [
       "       subreddit                                              title\n",
       "13198          0  announcer at girls high school basketball game...\n",
       "2848           1  new iphone has built in full size polaroid cam...\n",
       "10315          0  bezos says amazon workers aren t treated like ...\n",
       "15383          0        coca cola wants employees to be less white \n",
       "2041           1  don t tell me you ve never wondered what yoda ...\n",
       "13147          0  announcer cites low blood sugar for making rac...\n",
       "12642          0  uber says it will treat uk drivers as workers ...\n",
       "4040           1  christian bale loses years for upcoming movie ...\n",
       "4663           1          man competitive about how depressed he is\n",
       "510            1   your honor i m ready to present says giuliani...\n",
       "5439           1  mall santa crying hysterically in photo with t...\n",
       "5615           1   it s the real me nigerian president denies dy...\n",
       "16847          0  georgia substitute teacher arrested for child ...\n",
       "689            1               your horoscopes week of september   \n",
       "1522           1  protesters demand states reopen notice spike i...\n",
       "770            1  announcement we re proud to announce the onion...\n",
       "16761          0  la times columnist blasted for comparing trump...\n",
       "15583          0  leaders of us capitol attack linked to syrian ...\n",
       "1011           1  couple spices up love life by adding sex into ...\n",
       "5674           1  if i die i want you to tell my wife i wasn t r..."
      ]
     },
     "execution_count": 24,
     "metadata": {},
     "output_type": "execute_result"
    }
   ],
   "source": [
    "df.sample(20)\n"
   ]
  },
  {
   "cell_type": "markdown",
   "metadata": {},
   "source": [
    "## Apply `CountVectorizer()`"
   ]
  },
  {
   "cell_type": "markdown",
   "metadata": {},
   "source": [
    "### Count Vectorize `df` where `subreddit` is `1`\n",
    " - `ngram_range = (1,1)`"
   ]
  },
  {
   "cell_type": "code",
   "execution_count": 25,
   "metadata": {},
   "outputs": [
    {
     "name": "stdout",
     "output_type": "stream",
     "text": [
      "(9043, 15767)\n"
     ]
    }
   ],
   "source": [
    "# Set variables to show TheOnion Titles\n",
    "mask_on = df['subreddit'] == 1\n",
    "df_onion_titles = df[mask_on]['title']\n",
    "\n",
    "# Instantiate a CountVectorizer\n",
    "cv1 = CountVectorizer(stop_words = 'english')\n",
    "\n",
    "# Fit and transform the vectorizer on our corpus\n",
    "onion_cvec = cv1.fit_transform(df_onion_titles)\n",
    "\n",
    "# Convert onion_cvec into a DataFrame\n",
    "onion_cvec_df = pd.DataFrame(onion_cvec.toarray(),\n",
    "                   columns=cv1.get_feature_names())\n",
    "\n",
    "# Inspect head of Onion Titles cvec\n",
    "print(onion_cvec_df.shape)"
   ]
  },
  {
   "cell_type": "code",
   "execution_count": 26,
   "metadata": {},
   "outputs": [
    {
     "data": {
      "text/html": [
       "<div>\n",
       "<style scoped>\n",
       "    .dataframe tbody tr th:only-of-type {\n",
       "        vertical-align: middle;\n",
       "    }\n",
       "\n",
       "    .dataframe tbody tr th {\n",
       "        vertical-align: top;\n",
       "    }\n",
       "\n",
       "    .dataframe thead th {\n",
       "        text-align: right;\n",
       "    }\n",
       "</style>\n",
       "<table border=\"1\" class=\"dataframe\">\n",
       "  <thead>\n",
       "    <tr style=\"text-align: right;\">\n",
       "      <th></th>\n",
       "      <th>aanthropologists</th>\n",
       "      <th>aaron</th>\n",
       "      <th>abacus</th>\n",
       "      <th>abandon</th>\n",
       "      <th>abandoned</th>\n",
       "      <th>abandoning</th>\n",
       "      <th>abbey</th>\n",
       "      <th>abby</th>\n",
       "      <th>abc</th>\n",
       "      <th>abducted</th>\n",
       "      <th>...</th>\n",
       "      <th>zoo</th>\n",
       "      <th>zookeeper</th>\n",
       "      <th>zookeepers</th>\n",
       "      <th>zoologists</th>\n",
       "      <th>zoom</th>\n",
       "      <th>zorb</th>\n",
       "      <th>zuckerberg</th>\n",
       "      <th>zumba</th>\n",
       "      <th>zumtrel</th>\n",
       "      <th>zz</th>\n",
       "    </tr>\n",
       "  </thead>\n",
       "  <tbody>\n",
       "    <tr>\n",
       "      <th>0</th>\n",
       "      <td>0</td>\n",
       "      <td>0</td>\n",
       "      <td>0</td>\n",
       "      <td>0</td>\n",
       "      <td>0</td>\n",
       "      <td>0</td>\n",
       "      <td>0</td>\n",
       "      <td>0</td>\n",
       "      <td>0</td>\n",
       "      <td>0</td>\n",
       "      <td>...</td>\n",
       "      <td>0</td>\n",
       "      <td>0</td>\n",
       "      <td>0</td>\n",
       "      <td>0</td>\n",
       "      <td>0</td>\n",
       "      <td>0</td>\n",
       "      <td>0</td>\n",
       "      <td>0</td>\n",
       "      <td>0</td>\n",
       "      <td>0</td>\n",
       "    </tr>\n",
       "    <tr>\n",
       "      <th>1</th>\n",
       "      <td>0</td>\n",
       "      <td>0</td>\n",
       "      <td>0</td>\n",
       "      <td>0</td>\n",
       "      <td>0</td>\n",
       "      <td>0</td>\n",
       "      <td>0</td>\n",
       "      <td>0</td>\n",
       "      <td>0</td>\n",
       "      <td>0</td>\n",
       "      <td>...</td>\n",
       "      <td>0</td>\n",
       "      <td>0</td>\n",
       "      <td>0</td>\n",
       "      <td>0</td>\n",
       "      <td>0</td>\n",
       "      <td>0</td>\n",
       "      <td>0</td>\n",
       "      <td>0</td>\n",
       "      <td>0</td>\n",
       "      <td>0</td>\n",
       "    </tr>\n",
       "    <tr>\n",
       "      <th>2</th>\n",
       "      <td>0</td>\n",
       "      <td>0</td>\n",
       "      <td>0</td>\n",
       "      <td>0</td>\n",
       "      <td>0</td>\n",
       "      <td>0</td>\n",
       "      <td>0</td>\n",
       "      <td>0</td>\n",
       "      <td>0</td>\n",
       "      <td>0</td>\n",
       "      <td>...</td>\n",
       "      <td>0</td>\n",
       "      <td>0</td>\n",
       "      <td>0</td>\n",
       "      <td>0</td>\n",
       "      <td>0</td>\n",
       "      <td>0</td>\n",
       "      <td>0</td>\n",
       "      <td>0</td>\n",
       "      <td>0</td>\n",
       "      <td>0</td>\n",
       "    </tr>\n",
       "    <tr>\n",
       "      <th>3</th>\n",
       "      <td>0</td>\n",
       "      <td>0</td>\n",
       "      <td>0</td>\n",
       "      <td>0</td>\n",
       "      <td>0</td>\n",
       "      <td>0</td>\n",
       "      <td>0</td>\n",
       "      <td>0</td>\n",
       "      <td>0</td>\n",
       "      <td>0</td>\n",
       "      <td>...</td>\n",
       "      <td>0</td>\n",
       "      <td>0</td>\n",
       "      <td>0</td>\n",
       "      <td>0</td>\n",
       "      <td>0</td>\n",
       "      <td>0</td>\n",
       "      <td>0</td>\n",
       "      <td>0</td>\n",
       "      <td>0</td>\n",
       "      <td>0</td>\n",
       "    </tr>\n",
       "    <tr>\n",
       "      <th>4</th>\n",
       "      <td>0</td>\n",
       "      <td>0</td>\n",
       "      <td>0</td>\n",
       "      <td>0</td>\n",
       "      <td>0</td>\n",
       "      <td>0</td>\n",
       "      <td>0</td>\n",
       "      <td>0</td>\n",
       "      <td>0</td>\n",
       "      <td>0</td>\n",
       "      <td>...</td>\n",
       "      <td>0</td>\n",
       "      <td>0</td>\n",
       "      <td>0</td>\n",
       "      <td>0</td>\n",
       "      <td>0</td>\n",
       "      <td>0</td>\n",
       "      <td>0</td>\n",
       "      <td>0</td>\n",
       "      <td>0</td>\n",
       "      <td>0</td>\n",
       "    </tr>\n",
       "  </tbody>\n",
       "</table>\n",
       "<p>5 rows × 15767 columns</p>\n",
       "</div>"
      ],
      "text/plain": [
       "   aanthropologists  aaron  abacus  abandon  abandoned  abandoning  abbey  \\\n",
       "0                 0      0       0        0          0           0      0   \n",
       "1                 0      0       0        0          0           0      0   \n",
       "2                 0      0       0        0          0           0      0   \n",
       "3                 0      0       0        0          0           0      0   \n",
       "4                 0      0       0        0          0           0      0   \n",
       "\n",
       "   abby  abc  abducted  ...  zoo  zookeeper  zookeepers  zoologists  zoom  \\\n",
       "0     0    0         0  ...    0          0           0           0     0   \n",
       "1     0    0         0  ...    0          0           0           0     0   \n",
       "2     0    0         0  ...    0          0           0           0     0   \n",
       "3     0    0         0  ...    0          0           0           0     0   \n",
       "4     0    0         0  ...    0          0           0           0     0   \n",
       "\n",
       "   zorb  zuckerberg  zumba  zumtrel  zz  \n",
       "0     0           0      0        0   0  \n",
       "1     0           0      0        0   0  \n",
       "2     0           0      0        0   0  \n",
       "3     0           0      0        0   0  \n",
       "4     0           0      0        0   0  \n",
       "\n",
       "[5 rows x 15767 columns]"
      ]
     },
     "execution_count": 26,
     "metadata": {},
     "output_type": "execute_result"
    }
   ],
   "source": [
    "onion_cvec_df.head()"
   ]
  },
  {
   "cell_type": "markdown",
   "metadata": {},
   "source": [
    "### Count Vectorize `df` where `subreddit` is `0`\n",
    " - `ngram_range = (1,1)`"
   ]
  },
  {
   "cell_type": "code",
   "execution_count": 27,
   "metadata": {},
   "outputs": [
    {
     "name": "stdout",
     "output_type": "stream",
     "text": [
      "(7977, 12605)\n"
     ]
    }
   ],
   "source": [
    "# Set variables to show NotTheOnion Titles\n",
    "mask_no = df['subreddit'] == 0\n",
    "df_not_onion_titles = df[mask_no]['title']\n",
    "\n",
    "# Instantiate a CountVectorizer\n",
    "cv2 = CountVectorizer(stop_words = 'english')\n",
    "\n",
    "# Fit and transform the vectorizer on our corpus\n",
    "not_onion_cvec = cv2.fit_transform(df_not_onion_titles)\n",
    "\n",
    "# Convert onion_cvec into a DataFrame\n",
    "not_onion_cvec_df = pd.DataFrame(not_onion_cvec.toarray(),\n",
    "                   columns=cv2.get_feature_names())\n",
    "\n",
    "# Inspect head of Not Onion Titles cvec\n",
    "print(not_onion_cvec_df.shape)"
   ]
  },
  {
   "cell_type": "code",
   "execution_count": 28,
   "metadata": {},
   "outputs": [
    {
     "data": {
      "text/html": [
       "<div>\n",
       "<style scoped>\n",
       "    .dataframe tbody tr th:only-of-type {\n",
       "        vertical-align: middle;\n",
       "    }\n",
       "\n",
       "    .dataframe tbody tr th {\n",
       "        vertical-align: top;\n",
       "    }\n",
       "\n",
       "    .dataframe thead th {\n",
       "        text-align: right;\n",
       "    }\n",
       "</style>\n",
       "<table border=\"1\" class=\"dataframe\">\n",
       "  <thead>\n",
       "    <tr style=\"text-align: right;\">\n",
       "      <th></th>\n",
       "      <th>aaf</th>\n",
       "      <th>aaron</th>\n",
       "      <th>aba</th>\n",
       "      <th>aback</th>\n",
       "      <th>abandon</th>\n",
       "      <th>abandoned</th>\n",
       "      <th>abandons</th>\n",
       "      <th>abba</th>\n",
       "      <th>abbot</th>\n",
       "      <th>abbott</th>\n",
       "      <th>...</th>\n",
       "      <th>zip</th>\n",
       "      <th>zombie</th>\n",
       "      <th>zombies</th>\n",
       "      <th>zone</th>\n",
       "      <th>zoo</th>\n",
       "      <th>zookeeper</th>\n",
       "      <th>zoom</th>\n",
       "      <th>zootopia</th>\n",
       "      <th>zuckerberg</th>\n",
       "      <th>zymo</th>\n",
       "    </tr>\n",
       "  </thead>\n",
       "  <tbody>\n",
       "    <tr>\n",
       "      <th>0</th>\n",
       "      <td>0</td>\n",
       "      <td>0</td>\n",
       "      <td>0</td>\n",
       "      <td>0</td>\n",
       "      <td>0</td>\n",
       "      <td>0</td>\n",
       "      <td>0</td>\n",
       "      <td>0</td>\n",
       "      <td>0</td>\n",
       "      <td>0</td>\n",
       "      <td>...</td>\n",
       "      <td>0</td>\n",
       "      <td>0</td>\n",
       "      <td>0</td>\n",
       "      <td>0</td>\n",
       "      <td>0</td>\n",
       "      <td>0</td>\n",
       "      <td>0</td>\n",
       "      <td>0</td>\n",
       "      <td>0</td>\n",
       "      <td>0</td>\n",
       "    </tr>\n",
       "    <tr>\n",
       "      <th>1</th>\n",
       "      <td>0</td>\n",
       "      <td>0</td>\n",
       "      <td>0</td>\n",
       "      <td>0</td>\n",
       "      <td>0</td>\n",
       "      <td>0</td>\n",
       "      <td>0</td>\n",
       "      <td>0</td>\n",
       "      <td>0</td>\n",
       "      <td>0</td>\n",
       "      <td>...</td>\n",
       "      <td>0</td>\n",
       "      <td>0</td>\n",
       "      <td>0</td>\n",
       "      <td>0</td>\n",
       "      <td>0</td>\n",
       "      <td>0</td>\n",
       "      <td>0</td>\n",
       "      <td>0</td>\n",
       "      <td>0</td>\n",
       "      <td>0</td>\n",
       "    </tr>\n",
       "    <tr>\n",
       "      <th>2</th>\n",
       "      <td>0</td>\n",
       "      <td>0</td>\n",
       "      <td>0</td>\n",
       "      <td>0</td>\n",
       "      <td>0</td>\n",
       "      <td>0</td>\n",
       "      <td>0</td>\n",
       "      <td>0</td>\n",
       "      <td>0</td>\n",
       "      <td>0</td>\n",
       "      <td>...</td>\n",
       "      <td>0</td>\n",
       "      <td>0</td>\n",
       "      <td>0</td>\n",
       "      <td>0</td>\n",
       "      <td>0</td>\n",
       "      <td>0</td>\n",
       "      <td>0</td>\n",
       "      <td>0</td>\n",
       "      <td>0</td>\n",
       "      <td>0</td>\n",
       "    </tr>\n",
       "    <tr>\n",
       "      <th>3</th>\n",
       "      <td>0</td>\n",
       "      <td>0</td>\n",
       "      <td>0</td>\n",
       "      <td>0</td>\n",
       "      <td>0</td>\n",
       "      <td>0</td>\n",
       "      <td>0</td>\n",
       "      <td>0</td>\n",
       "      <td>0</td>\n",
       "      <td>0</td>\n",
       "      <td>...</td>\n",
       "      <td>0</td>\n",
       "      <td>0</td>\n",
       "      <td>0</td>\n",
       "      <td>0</td>\n",
       "      <td>0</td>\n",
       "      <td>0</td>\n",
       "      <td>0</td>\n",
       "      <td>0</td>\n",
       "      <td>0</td>\n",
       "      <td>0</td>\n",
       "    </tr>\n",
       "    <tr>\n",
       "      <th>4</th>\n",
       "      <td>0</td>\n",
       "      <td>0</td>\n",
       "      <td>0</td>\n",
       "      <td>0</td>\n",
       "      <td>0</td>\n",
       "      <td>0</td>\n",
       "      <td>0</td>\n",
       "      <td>0</td>\n",
       "      <td>0</td>\n",
       "      <td>0</td>\n",
       "      <td>...</td>\n",
       "      <td>0</td>\n",
       "      <td>0</td>\n",
       "      <td>0</td>\n",
       "      <td>0</td>\n",
       "      <td>0</td>\n",
       "      <td>0</td>\n",
       "      <td>0</td>\n",
       "      <td>0</td>\n",
       "      <td>0</td>\n",
       "      <td>0</td>\n",
       "    </tr>\n",
       "  </tbody>\n",
       "</table>\n",
       "<p>5 rows × 12605 columns</p>\n",
       "</div>"
      ],
      "text/plain": [
       "   aaf  aaron  aba  aback  abandon  abandoned  abandons  abba  abbot  abbott  \\\n",
       "0    0      0    0      0        0          0         0     0      0       0   \n",
       "1    0      0    0      0        0          0         0     0      0       0   \n",
       "2    0      0    0      0        0          0         0     0      0       0   \n",
       "3    0      0    0      0        0          0         0     0      0       0   \n",
       "4    0      0    0      0        0          0         0     0      0       0   \n",
       "\n",
       "   ...  zip  zombie  zombies  zone  zoo  zookeeper  zoom  zootopia  \\\n",
       "0  ...    0       0        0     0    0          0     0         0   \n",
       "1  ...    0       0        0     0    0          0     0         0   \n",
       "2  ...    0       0        0     0    0          0     0         0   \n",
       "3  ...    0       0        0     0    0          0     0         0   \n",
       "4  ...    0       0        0     0    0          0     0         0   \n",
       "\n",
       "   zuckerberg  zymo  \n",
       "0           0     0  \n",
       "1           0     0  \n",
       "2           0     0  \n",
       "3           0     0  \n",
       "4           0     0  \n",
       "\n",
       "[5 rows x 12605 columns]"
      ]
     },
     "execution_count": 28,
     "metadata": {},
     "output_type": "execute_result"
    }
   ],
   "source": [
    "not_onion_cvec_df.head()"
   ]
  },
  {
   "cell_type": "code",
   "execution_count": 29,
   "metadata": {},
   "outputs": [
    {
     "data": {
      "text/html": [
       "<div>\n",
       "<style scoped>\n",
       "    .dataframe tbody tr th:only-of-type {\n",
       "        vertical-align: middle;\n",
       "    }\n",
       "\n",
       "    .dataframe tbody tr th {\n",
       "        vertical-align: top;\n",
       "    }\n",
       "\n",
       "    .dataframe thead th {\n",
       "        text-align: right;\n",
       "    }\n",
       "</style>\n",
       "<table border=\"1\" class=\"dataframe\">\n",
       "  <thead>\n",
       "    <tr style=\"text-align: right;\">\n",
       "      <th></th>\n",
       "      <th>subreddit</th>\n",
       "      <th>title</th>\n",
       "    </tr>\n",
       "  </thead>\n",
       "  <tbody>\n",
       "    <tr>\n",
       "      <th>17015</th>\n",
       "      <td>0</td>\n",
       "      <td>lindell capitol rioters were drugged by antifa...</td>\n",
       "    </tr>\n",
       "    <tr>\n",
       "      <th>17016</th>\n",
       "      <td>0</td>\n",
       "      <td>michigan s top republican falsely calls u s ca...</td>\n",
       "    </tr>\n",
       "    <tr>\n",
       "      <th>17017</th>\n",
       "      <td>0</td>\n",
       "      <td>burrito theft suspect accused of assaulting po...</td>\n",
       "    </tr>\n",
       "    <tr>\n",
       "      <th>17018</th>\n",
       "      <td>0</td>\n",
       "      <td>conservationists plead with public to stop mil...</td>\n",
       "    </tr>\n",
       "    <tr>\n",
       "      <th>17019</th>\n",
       "      <td>0</td>\n",
       "      <td>no defends taxpayer funded photos of pm s dog ...</td>\n",
       "    </tr>\n",
       "  </tbody>\n",
       "</table>\n",
       "</div>"
      ],
      "text/plain": [
       "       subreddit                                              title\n",
       "17015          0  lindell capitol rioters were drugged by antifa...\n",
       "17016          0  michigan s top republican falsely calls u s ca...\n",
       "17017          0  burrito theft suspect accused of assaulting po...\n",
       "17018          0  conservationists plead with public to stop mil...\n",
       "17019          0  no defends taxpayer funded photos of pm s dog ..."
      ]
     },
     "execution_count": 29,
     "metadata": {},
     "output_type": "execute_result"
    }
   ],
   "source": [
    "df.tail()"
   ]
  },
  {
   "cell_type": "markdown",
   "metadata": {},
   "source": [
    "### r/TheOnion: Top 5 Unigrams "
   ]
  },
  {
   "cell_type": "code",
   "execution_count": 30,
   "metadata": {},
   "outputs": [
    {
     "name": "stderr",
     "output_type": "stream",
     "text": [
      "/opt/anaconda3/lib/python3.8/site-packages/seaborn/_decorators.py:36: FutureWarning: Pass the following variables as keyword args: x, y. From version 0.12, the only valid positional argument will be `data`, and passing other arguments without an explicit keyword will result in an error or misinterpretation.\n",
      "  warnings.warn(\n"
     ]
    },
    {
     "data": {
      "image/png": "[encoded data removed]",
      "text/plain": [
       "<Figure size 648x360 with 1 Axes>"
      ]
     },
     "metadata": {
      "image/png": {
       "height": 320,
       "width": 554
      },
      "needs_background": "light"
     },
     "output_type": "display_data"
    }
   ],
   "source": [
    "# Set up variables to contain top 5 most used words in Onion\n",
    "onion_wc = onion_cvec_df.sum(axis = 0)\n",
    "onion_top_5 = onion_wc.sort_values(ascending=False).head(5)\n",
    "\n",
    "# Call function\n",
    "bar_plot(onion_top_5.values, onion_top_5.index, 'Top 5 unigrams on r/TheOnion','r') "
   ]
  },
  {
   "cell_type": "markdown",
   "metadata": {},
   "source": [
    "### r/nottheonion: Top 5 Unigrams"
   ]
  },
  {
   "cell_type": "code",
   "execution_count": 31,
   "metadata": {},
   "outputs": [
    {
     "name": "stderr",
     "output_type": "stream",
     "text": [
      "/opt/anaconda3/lib/python3.8/site-packages/seaborn/_decorators.py:36: FutureWarning: Pass the following variables as keyword args: x, y. From version 0.12, the only valid positional argument will be `data`, and passing other arguments without an explicit keyword will result in an error or misinterpretation.\n",
      "  warnings.warn(\n"
     ]
    },
    {
     "data": {
      "image/png": "[encoded data removed]",
      "text/plain": [
       "<Figure size 648x360 with 1 Axes>"
      ]
     },
     "metadata": {
      "image/png": {
       "height": 320,
       "width": 561
      },
      "needs_background": "light"
     },
     "output_type": "display_data"
    }
   ],
   "source": [
    "# Set up variables to contain top 5 most used words in Onion\n",
    "nonion_wc = not_onion_cvec_df.sum(axis = 0)\n",
    "nonion_top_5 = nonion_wc.sort_values(ascending=False).head(5)\n",
    "\n",
    "# Call function\n",
    "bar_plot(nonion_top_5.values, nonion_top_5.index, 'Top 5 unigrams on r/nottheonion','b') "
   ]
  },
  {
   "cell_type": "markdown",
   "metadata": {},
   "source": [
    "### Common Unigrams between Top 5 in r/TheOnion & r/nottheonion"
   ]
  },
  {
   "cell_type": "code",
   "execution_count": 32,
   "metadata": {},
   "outputs": [
    {
     "data": {
      "text/plain": [
       "{'man', 'trump'}"
      ]
     },
     "execution_count": 32,
     "metadata": {},
     "output_type": "execute_result"
    }
   ],
   "source": [
    "# Create list of unique words in top five\n",
    "not_onion_5_set = set(nonion_top_5.index)\n",
    "onion_5_set = set(onion_top_5.index)\n",
    "\n",
    "# Return common words\n",
    "common_unigrams = onion_5_set.intersection(not_onion_5_set)\n",
    "common_unigrams"
   ]
  },
  {
   "cell_type": "markdown",
   "metadata": {},
   "source": [
    "### Count Vectorize `df` where `subreddit` is `1`\n",
    " - `ngram_range = (2,2)`"
   ]
  },
  {
   "cell_type": "code",
   "execution_count": 33,
   "metadata": {},
   "outputs": [
    {
     "name": "stdout",
     "output_type": "stream",
     "text": [
      "(9043, 57563)\n"
     ]
    }
   ],
   "source": [
    "# Set variables to show TheOnion Titles\n",
    "mask = df['subreddit'] == 1\n",
    "df_onion_titles = df[mask]['title']\n",
    "\n",
    "# Instantiate a CountVectorizer\n",
    "cv = CountVectorizer(stop_words = 'english', ngram_range=(2,2))\n",
    "\n",
    "# Fit and transform the vectorizer on our corpus\n",
    "onion_cvec = cv.fit_transform(df_onion_titles)\n",
    "\n",
    "# Convert onion_cvec into a DataFrame\n",
    "onion_cvec_df = pd.DataFrame(onion_cvec.toarray(),\n",
    "                   columns=cv.get_feature_names())\n",
    "\n",
    "# Inspect head of Onion Titles cvec\n",
    "print(onion_cvec_df.shape)"
   ]
  },
  {
   "cell_type": "markdown",
   "metadata": {},
   "source": [
    "### Count Vectorize `df` where `subreddit` is `0`\n",
    " - `ngram_range = (2,2)`"
   ]
  },
  {
   "cell_type": "code",
   "execution_count": 34,
   "metadata": {},
   "outputs": [
    {
     "name": "stdout",
     "output_type": "stream",
     "text": [
      "(7977, 44843)\n"
     ]
    }
   ],
   "source": [
    "# Set variables to show NotTheOnion Titles\n",
    "mask = df['subreddit'] == 0\n",
    "df_not_onion_titles = df[mask]['title']\n",
    "\n",
    "# Instantiate a CountVectorizer\n",
    "cv = CountVectorizer(stop_words = 'english', ngram_range=(2,2))\n",
    "\n",
    "# Fit and transform the vectorizer on our corpus\n",
    "not_onion_cvec = cv.fit_transform(df_not_onion_titles)\n",
    "\n",
    "# Convert onion_cvec into a DataFrame\n",
    "not_onion_cvec_df = pd.DataFrame(not_onion_cvec.toarray(),\n",
    "                   columns=cv.get_feature_names())\n",
    "\n",
    "# Inspect head of Not Onion Titles cvec\n",
    "print(not_onion_cvec_df.shape)"
   ]
  },
  {
   "cell_type": "markdown",
   "metadata": {},
   "source": [
    "### r/TheOnion: Top 5 Bigrams"
   ]
  },
  {
   "cell_type": "code",
   "execution_count": 35,
   "metadata": {},
   "outputs": [
    {
     "name": "stderr",
     "output_type": "stream",
     "text": [
      "/opt/anaconda3/lib/python3.8/site-packages/seaborn/_decorators.py:36: FutureWarning: Pass the following variables as keyword args: x, y. From version 0.12, the only valid positional argument will be `data`, and passing other arguments without an explicit keyword will result in an error or misinterpretation.\n",
      "  warnings.warn(\n"
     ]
    },
    {
     "data": {
      "image/png": "[encoded data removed]",
      "text/plain": [
       "<Figure size 648x360 with 1 Axes>"
      ]
     },
     "metadata": {
      "image/png": {
       "height": 320,
       "width": 593
      },
      "needs_background": "light"
     },
     "output_type": "display_data"
    }
   ],
   "source": [
    "# Set up variables to contain top 5 most used bigrams in r/TheOnion\n",
    "onion_wc = onion_cvec_df.sum(axis = 0)\n",
    "onion_top_5 = onion_wc.sort_values(ascending=False).head(5)\n",
    "\n",
    "# Call function\n",
    "bar_plot(onion_top_5.values, onion_top_5.index, 'Top 5 bigrams on r/TheOnion','r') "
   ]
  },
  {
   "cell_type": "markdown",
   "metadata": {},
   "source": [
    "### r/nottheonion: Top 5 Bigrams"
   ]
  },
  {
   "cell_type": "code",
   "execution_count": 36,
   "metadata": {},
   "outputs": [
    {
     "name": "stderr",
     "output_type": "stream",
     "text": [
      "/opt/anaconda3/lib/python3.8/site-packages/seaborn/_decorators.py:36: FutureWarning: Pass the following variables as keyword args: x, y. From version 0.12, the only valid positional argument will be `data`, and passing other arguments without an explicit keyword will result in an error or misinterpretation.\n",
      "  warnings.warn(\n"
     ]
    },
    {
     "data": {
      "image/png": "[encoded data removed]",
      "text/plain": [
       "<Figure size 648x360 with 1 Axes>"
      ]
     },
     "metadata": {
      "image/png": {
       "height": 320,
       "width": 593
      },
      "needs_background": "light"
     },
     "output_type": "display_data"
    }
   ],
   "source": [
    "# Set up variables to contain top 5 most used bigrams in r/nottheonion\n",
    "nonion_wc = not_onion_cvec_df.sum(axis = 0)\n",
    "nonion_top_5 = nonion_wc.sort_values(ascending=False).head(5)\n",
    "\n",
    "# Call function\n",
    "bar_plot(nonion_top_5.values, nonion_top_5.index, 'Top 5 bigrams on r/nottheonion','b') "
   ]
  },
  {
   "cell_type": "markdown",
   "metadata": {},
   "source": [
    "### Common Bigrams between Top 5 in r/TheOnion & r/nottheonion"
   ]
  },
  {
   "cell_type": "code",
   "execution_count": 37,
   "metadata": {},
   "outputs": [
    {
     "data": {
      "text/plain": [
       "{'year old'}"
      ]
     },
     "execution_count": 37,
     "metadata": {},
     "output_type": "execute_result"
    }
   ],
   "source": [
    "not_onion_5_list = set(nonion_top_5.index)\n",
    "onion_5_list = set(onion_top_5.index)\n",
    "\n",
    "# Return common words\n",
    "common_bigrams = onion_5_list.intersection(not_onion_5_list)\n",
    "common_bigrams"
   ]
  },
  {
   "cell_type": "markdown",
   "metadata": {},
   "source": [
    "Take out `{'man', 'new', 'just', 'police', 'says', 'trump', 'covid', 'onion'}` from dataset when modeling, since these words occur frequently in both subreddits. "
   ]
  },
  {
   "cell_type": "markdown",
   "metadata": {},
   "source": [
    "### Create custom `stop_words` to include common frequent words"
   ]
  },
  {
   "cell_type": "markdown",
   "metadata": {},
   "source": [
    "Referencing the common most-used words, add them to a customized `stop_words` list. "
   ]
  },
  {
   "cell_type": "code",
   "execution_count": 38,
   "metadata": {},
   "outputs": [],
   "source": [
    "# Create lists \n",
    "custom = stop_words.ENGLISH_STOP_WORDS\n",
    "custom = list(custom)\n",
    "common_unigrams = list(common_unigrams)\n",
    "common_bigrams = list(common_bigrams)\n",
    "\n",
    "# Append unigrams to list \n",
    "for i in common_unigrams:\n",
    "    custom.append(i)\n",
    "\n",
    "    \n",
    "# Append bigrams to list \n",
    "for i in common_bigrams:\n",
    "    split_words = i.split(\" \")\n",
    "    for word in split_words:\n",
    "        custom.append(word)"
   ]
  },
  {
   "cell_type": "markdown",
   "metadata": {},
   "source": [
    "# Modeling"
   ]
  },
  {
   "cell_type": "markdown",
   "metadata": {},
   "source": [
    "Here I conduct model-prep and use Pipeline and GridSearch to determine the most optimal model to run my data on. "
   ]
  },
  {
   "cell_type": "markdown",
   "metadata": {},
   "source": [
    "### Baseline Score"
   ]
  },
  {
   "cell_type": "code",
   "execution_count": 40,
   "metadata": {},
   "outputs": [
    {
     "data": {
      "text/plain": [
       "1    0.531316\n",
       "0    0.468684\n",
       "Name: subreddit, dtype: float64"
      ]
     },
     "execution_count": 40,
     "metadata": {},
     "output_type": "execute_result"
    }
   ],
   "source": [
    "# Baseline score\n",
    "df['subreddit'].value_counts(normalize=True)"
   ]
  },
  {
   "cell_type": "markdown",
   "metadata": {},
   "source": [
    "I expect my model to be better than 54%. The majority class is `1`, or, `TheOnion`. If the model is not better than 54%, I know the model is not performing well."
   ]
  },
  {
   "cell_type": "markdown",
   "metadata": {},
   "source": [
    "### Set `X` (predictor) and `y` (target) variables "
   ]
  },
  {
   "cell_type": "code",
   "execution_count": 41,
   "metadata": {},
   "outputs": [],
   "source": [
    "X = df['title']\n",
    "y = df['subreddit']"
   ]
  },
  {
   "cell_type": "markdown",
   "metadata": {},
   "source": [
    "### Train/Test Split"
   ]
  },
  {
   "cell_type": "code",
   "execution_count": 42,
   "metadata": {},
   "outputs": [],
   "source": [
    "X_train, X_test, y_train, y_test = train_test_split(X,\n",
    "                                                    y,\n",
    "                                                    random_state=42,\n",
    "                                                    stratify=y)"
   ]
  },
  {
   "cell_type": "markdown",
   "metadata": {},
   "source": [
    "### Model 1: CountVectorizer & Logistic Regression (Best Coefficient Interpretability)"
   ]
  },
  {
   "cell_type": "code",
   "execution_count": 43,
   "metadata": {},
   "outputs": [
    {
     "name": "stdout",
     "output_type": "stream",
     "text": [
      "Best score: 0.8166079122600861\n",
      "Train score 0.9983548766157462\n",
      "Test score 0.8307873090481787\n"
     ]
    },
    {
     "data": {
      "text/plain": [
       "{'cvec__ngram_range': (1, 3), 'cvec__stop_words': None, 'lr__C': 1}"
      ]
     },
     "execution_count": 43,
     "metadata": {},
     "output_type": "execute_result"
    }
   ],
   "source": [
    "pipe = Pipeline([('cvec', CountVectorizer()),    \n",
    "                 ('lr', LogisticRegression(solver='liblinear'))])\n",
    "\n",
    "# Tune GridSearchCV\n",
    "pipe_params = {'cvec__stop_words': [None, 'english', custom],\n",
    "               'cvec__ngram_range': [(1,1), (2,2), (1,3)],\n",
    "               'lr__C': [0.01, 1]}\n",
    "\n",
    "gs = GridSearchCV(pipe, param_grid=pipe_params, cv=3)\n",
    "gs.fit(X_train, y_train);\n",
    "print(\"Best score:\", gs.best_score_)\n",
    "print(\"Train score\", gs.score(X_train, y_train))\n",
    "print(\"Test score\", gs.score(X_test, y_test))\n",
    "\n",
    "gs.best_params_"
   ]
  },
  {
   "cell_type": "markdown",
   "metadata": {},
   "source": [
    "Throughout my model testing, none of the stop_word lists were chosen as a best parameter. So from here on out, I omit them from my parameter selection. Additionally, while the model is overfitting, I am optimizing to get the highest accuracy score in my test set. "
   ]
  },
  {
   "cell_type": "markdown",
   "metadata": {},
   "source": [
    "### Model 2: TfidfVectorize & Logistic Regression"
   ]
  },
  {
   "cell_type": "code",
   "execution_count": 44,
   "metadata": {},
   "outputs": [
    {
     "name": "stdout",
     "output_type": "stream",
     "text": [
      "Best score: 0.8144927536231884\n",
      "Train score 0.9233059146102625\n",
      "Test score 0.8155111633372503\n"
     ]
    },
    {
     "data": {
      "text/plain": [
       "{'lr__C': 1,\n",
       " 'tvect__max_df': 0.75,\n",
       " 'tvect__min_df': 2,\n",
       " 'tvect__ngram_range': (1, 2)}"
      ]
     },
     "execution_count": 44,
     "metadata": {},
     "output_type": "execute_result"
    }
   ],
   "source": [
    "pipe = Pipeline([('tvect', TfidfVectorizer()),    \n",
    "                 ('lr', LogisticRegression(solver='liblinear'))])\n",
    "\n",
    "# Tune GridSearchCV\n",
    "pipe_params = {'tvect__max_df': [.75, .98, 1.0],\n",
    "               'tvect__min_df': [2, 3, 5],\n",
    "               'tvect__ngram_range': [(1,1), (1,2), (1,3)],\n",
    "               'lr__C': [1]}\n",
    "\n",
    "gs = GridSearchCV(pipe, param_grid=pipe_params, cv=3)\n",
    "gs.fit(X_train, y_train);\n",
    "print(\"Best score:\", gs.best_score_)\n",
    "print(\"Train score\", gs.score(X_train, y_train))\n",
    "print(\"Test score\", gs.score(X_test, y_test))\n",
    "\n",
    "gs.best_params_"
   ]
  },
  {
   "cell_type": "markdown",
   "metadata": {},
   "source": [
    "Model 1 performed with a better test score when comparing Logistic Regression models. "
   ]
  },
  {
   "cell_type": "markdown",
   "metadata": {},
   "source": [
    "### Model 3: CountVectorizer & MultinomialNB (Best Accuracy Score)"
   ]
  },
  {
   "cell_type": "code",
   "execution_count": 45,
   "metadata": {},
   "outputs": [
    {
     "name": "stdout",
     "output_type": "stream",
     "text": [
      "Best score: 0.8301605953779867\n",
      "Train score 0.9958480219349785\n",
      "Test score 0.83689776733255\n"
     ]
    },
    {
     "data": {
      "text/plain": [
       "{'cvec__ngram_range': (1, 3), 'nb__alpha': 0.6}"
      ]
     },
     "execution_count": 45,
     "metadata": {},
     "output_type": "execute_result"
    }
   ],
   "source": [
    "pipe = Pipeline([('cvec', CountVectorizer()),    \n",
    "                 ('nb', MultinomialNB())])\n",
    "\n",
    "# Tune GridSearchCV\n",
    "pipe_params = {'cvec__ngram_range': [(1,1),(1,3)],\n",
    "               'nb__alpha': [.36, .6]}\n",
    "\n",
    "gs = GridSearchCV(pipe, param_grid=pipe_params, cv=3)\n",
    "gs.fit(X_train, y_train);\n",
    "print(\"Best score:\", gs.best_score_)\n",
    "print(\"Train score\", gs.score(X_train, y_train))\n",
    "print(\"Test score\", gs.score(X_test, y_test))\n",
    "\n",
    "gs.best_params_"
   ]
  },
  {
   "cell_type": "markdown",
   "metadata": {},
   "source": [
    "The model is overfitting, but as I mentioned, I am optimizing for accuracy. I want to ensure that all predictions are correct. That is, all posts from r/TheOnion must be classified as being from the subreddit r/TheOnion, and all posts from r/nottheonion must be classified as being from the subreddit r/nottheonion. This model gives the best testing score."
   ]
  },
  {
   "cell_type": "markdown",
   "metadata": {},
   "source": [
    "### Model 4: TfidfVectorizer & MultinomialNB "
   ]
  },
  {
   "cell_type": "code",
   "execution_count": 46,
   "metadata": {
    "scrolled": false
   },
   "outputs": [
    {
     "name": "stdout",
     "output_type": "stream",
     "text": [
      "Best score: 0.8100274187230708\n",
      "Train score 0.8856247551899726\n",
      "Test score 0.8028202115158637\n"
     ]
    },
    {
     "data": {
      "text/plain": [
       "{'nb__alpha': 1,\n",
       " 'tvect__max_df': 0.75,\n",
       " 'tvect__min_df': 4,\n",
       " 'tvect__ngram_range': (1, 3)}"
      ]
     },
     "execution_count": 46,
     "metadata": {},
     "output_type": "execute_result"
    }
   ],
   "source": [
    "pipe = Pipeline([('tvect', TfidfVectorizer()),    \n",
    "                 ('nb', MultinomialNB())])\n",
    "\n",
    "# Tune GridSearchCV\n",
    "pipe_params = {'tvect__max_df': [.75, .98],\n",
    "               'tvect__min_df': [4, 5],\n",
    "               'tvect__ngram_range': [(1,2), (1,3)],\n",
    "               'nb__alpha': [0.1, 1]}\n",
    "\n",
    "gs = GridSearchCV(pipe, param_grid=pipe_params, cv=5)\n",
    "gs.fit(X_train, y_train);\n",
    "print(\"Best score:\", gs.best_score_)\n",
    "print(\"Train score\", gs.score(X_train, y_train))\n",
    "print(\"Test score\", gs.score(X_test, y_test))\n",
    "\n",
    "gs.best_params_"
   ]
  },
  {
   "cell_type": "markdown",
   "metadata": {},
   "source": [
    "When comparing test scores of my MultinomialNB models, Model 3 performs better."
   ]
  },
  {
   "cell_type": "markdown",
   "metadata": {},
   "source": [
    "# Best Models "
   ]
  },
  {
   "cell_type": "markdown",
   "metadata": {},
   "source": [
    "In this section, I take my two optimal models and run them. The first model, CountVectorizer & MultinomialNB, will be used to convey a confusion matrix which will show all evaluation scores. The second model, CountVectorizer & Logistic Regression, will be used to interpret my coefficients."
   ]
  },
  {
   "cell_type": "markdown",
   "metadata": {},
   "source": [
    "### CountVectorizer & MultinomialNB: Best Score"
   ]
  },
  {
   "cell_type": "code",
   "execution_count": 47,
   "metadata": {},
   "outputs": [
    {
     "name": "stdout",
     "output_type": "stream",
     "text": [
      "0.836427732079906\n"
     ]
    }
   ],
   "source": [
    "#Instantiate the classifier and vectorizer\n",
    "nb = MultinomialNB(alpha = 0.36)\n",
    "cvec = CountVectorizer(ngram_range= (1, 3))\n",
    "\n",
    "# Fit and transform the vectorizor\n",
    "cvec.fit(X_train)\n",
    "\n",
    "Xcvec_train = cvec.transform(X_train)\n",
    "Xcvec_test = cvec.transform(X_test)\n",
    "\n",
    "# Fit the classifier\n",
    "nb.fit(Xcvec_train,y_train)\n",
    "\n",
    "# Create the predictions for Y training data\n",
    "preds = nb.predict(Xcvec_test)\n",
    "\n",
    "print(nb.score(Xcvec_test, y_test))"
   ]
  },
  {
   "cell_type": "markdown",
   "metadata": {},
   "source": [
    "### Confusion Matrix"
   ]
  },
  {
   "cell_type": "code",
   "execution_count": 48,
   "metadata": {},
   "outputs": [
    {
     "data": {
      "text/plain": [
       "array([[1607,  387],\n",
       "       [ 309, 1952]])"
      ]
     },
     "execution_count": 48,
     "metadata": {},
     "output_type": "execute_result"
    }
   ],
   "source": [
    "# Create a confusion matrix\n",
    "cnf_matrix = metrics.confusion_matrix(y_test, preds)\n",
    "cnf_matrix"
   ]
  },
  {
   "cell_type": "code",
   "execution_count": 49,
   "metadata": {},
   "outputs": [
    {
     "data": {
      "text/plain": [
       "Text(0.5, 257.44, 'Predicted label')"
      ]
     },
     "execution_count": 49,
     "metadata": {},
     "output_type": "execute_result"
    },
    {
     "data": {
      "image/png": "[encoded data removed]",
      "text/plain": [
       "<Figure size 432x288 with 2 Axes>"
      ]
     },
     "metadata": {
      "image/png": {
       "height": 320,
       "width": 423
      },
      "needs_background": "light"
     },
     "output_type": "display_data"
    }
   ],
   "source": [
    "# Code from https://www.datacamp.com/community/tutorials/understanding-logistic-regression-python\n",
    "\n",
    "# name  of classes\n",
    "class_names=[0,1] \n",
    "\n",
    "# Set fig and axes \n",
    "fig, ax = plt.subplots()\n",
    "tick_marks = np.arange(len(class_names))\n",
    "plt.xticks(tick_marks, class_names)\n",
    "plt.yticks(tick_marks, class_names)\n",
    "\n",
    "# Create heatmap\n",
    "sns.heatmap(pd.DataFrame(cnf_matrix), annot=True, cmap=\"YlGnBu\" ,fmt='g')\n",
    "ax.xaxis.set_label_position(\"top\")\n",
    "plt.tight_layout()\n",
    "plt.title('Confusion matrix', y=1.1)\n",
    "plt.ylabel('Actual label')\n",
    "plt.xlabel('Predicted label')"
   ]
  },
  {
   "cell_type": "code",
   "execution_count": 50,
   "metadata": {},
   "outputs": [],
   "source": [
    "# Assign True Neg, False Pos, False Neg, True Pos variables\n",
    "cnf_matrix = np.array(cnf_matrix).tolist()\n",
    "\n",
    "tn_fp, fn_tp = cnf_matrix\n",
    "\n",
    "tn, fp = tn_fp\n",
    "fn, tp = fn_tp"
   ]
  },
  {
   "cell_type": "code",
   "execution_count": 51,
   "metadata": {},
   "outputs": [
    {
     "name": "stdout",
     "output_type": "stream",
     "text": [
      "Accuracy: 83.64 %\n",
      "Precision: 83.45 %\n",
      "Recall: 86.33 %\n",
      "Specificity: 80.59 %\n",
      "Misclassification Rate: 17.8 %\n"
     ]
    }
   ],
   "source": [
    "# Print Scores \n",
    "\n",
    "print(\"Accuracy:\",round(metrics.accuracy_score(y_test, preds)*100, 2),'%')\n",
    "print(\"Precision:\",round(metrics.precision_score(y_test, preds)*100, 2), '%')\n",
    "print(\"Recall:\",round(metrics.recall_score(y_test, preds)*100, 2), '%')\n",
    "print(\"Specificity:\", round((tn/(tn+fp))*100, 2), '%')\n",
    "print(\"Misclassification Rate:\", round((fp+fn)/(tn+fp+fn+tn)*100, 2), '%')"
   ]
  },
  {
   "cell_type": "markdown",
   "metadata": {},
   "source": [
    "### CountVectorizer & Logistic Regression: Best Coefficient Interpretability"
   ]
  },
  {
   "cell_type": "code",
   "execution_count": 52,
   "metadata": {},
   "outputs": [],
   "source": [
    "# Customize stop_words to include `onion` so that it doesn't appear\n",
    "# in coefficients \n",
    "\n",
    "stop_words_onion = stop_words.ENGLISH_STOP_WORDS\n",
    "stop_words_onion = list(stop_words_onion)\n",
    "stop_words_onion.append('onion')"
   ]
  },
  {
   "cell_type": "code",
   "execution_count": 53,
   "metadata": {},
   "outputs": [
    {
     "name": "stdout",
     "output_type": "stream",
     "text": [
      "0.8110458284371328\n"
     ]
    }
   ],
   "source": [
    "#Instantiate the classifier and vectorizer\n",
    "lr = LogisticRegression(C = 1.0, solver='liblinear')\n",
    "cvec2 = CountVectorizer(stop_words = stop_words_onion)\n",
    "\n",
    "# Fit and transform the vectorizor\n",
    "cvec2.fit(X_train)\n",
    "\n",
    "Xcvec2_train = cvec2.transform(X_train)\n",
    "Xcvec2_test = cvec2.transform(X_test)\n",
    "\n",
    "# Fit the classifier\n",
    "lr.fit(Xcvec2_train,y_train)\n",
    "\n",
    "# Create the predictions for Y training data\n",
    "lr_preds = lr.predict(Xcvec2_test)\n",
    "\n",
    "print(lr.score(Xcvec2_test, y_test))"
   ]
  },
  {
   "cell_type": "markdown",
   "metadata": {},
   "source": [
    "### Coefficient Analysis"
   ]
  },
  {
   "cell_type": "code",
   "execution_count": 54,
   "metadata": {},
   "outputs": [
    {
     "data": {
      "image/png": "[encoded data removed]",
      "text/plain": [
       "<Figure size 576x432 with 1 Axes>"
      ]
     },
     "metadata": {
      "image/png": {
       "height": 406,
       "width": 530
      },
      "needs_background": "light"
     },
     "output_type": "display_data"
    }
   ],
   "source": [
    "# Create list of logistic regression coefficients \n",
    "lr_coef = np.array(lr.coef_).tolist()\n",
    "lr_coef = lr_coef[0]\n",
    "\n",
    "# create dataframe from lasso coef\n",
    "lr_coef = pd.DataFrame(np.round_(lr_coef, decimals=3), \n",
    "cvec2.get_feature_names(), columns = [\"penalized_regression_coefficients\"])\n",
    "\n",
    "# sort the values from high to low\n",
    "lr_coef = lr_coef.sort_values(by = 'penalized_regression_coefficients', \n",
    "ascending = False)\n",
    "\n",
    "\n",
    "# create best and worst performing lasso coef dataframes\n",
    "df_head = lr_coef.head(10)\n",
    "df_tail = lr_coef.tail(10)\n",
    "\n",
    "# merge back together\n",
    "df_merged = pd.concat([df_head, df_tail], axis=0)\n",
    "\n",
    "# plot the sorted dataframe\n",
    "fig, ax = plt.subplots()\n",
    "fig.set_size_inches(8, 6)\n",
    "fig.suptitle('Coefficients!', size=14)\n",
    "ax = sns.barplot(x = 'penalized_regression_coefficients', y= df_merged.index, \n",
    "data=df_merged)\n",
    "ax.set(xlabel='Penalized Regression Coefficients')\n",
    "plt.tight_layout(pad=3, w_pad=0, h_pad=0);"
   ]
  },
  {
   "cell_type": "code",
   "execution_count": 55,
   "metadata": {},
   "outputs": [
    {
     "name": "stdout",
     "output_type": "stream",
     "text": [
      "The word that contributes the most positively to being from r/TheOnion is nation followed by mueller and kavanaugh .\n",
      "-----------------------------------\n",
      "The word that contributes the most positively to being from r/nottheonion is gender followed by croissant and covid .\n"
     ]
    }
   ],
   "source": [
    "print(\"The word that contributes the most positively to being from r/TheOnion is\", \n",
    "      df_merged.index[0], \"followed by\", \n",
    "      df_merged.index[1], \"and\",\n",
    "      df_merged.index[2],\".\")\n",
    "\n",
    "print(\"-----------------------------------\")\n",
    "\n",
    "print(\"The word that contributes the most positively to being from r/nottheonion is\", \n",
    "      df_merged.index[-1], \"followed by\", \n",
    "      df_merged.index[-2], \"and\",\n",
    "      df_merged.index[-3],\".\")"
   ]
  },
  {
   "cell_type": "code",
   "execution_count": 56,
   "metadata": {},
   "outputs": [
    {
     "data": {
      "text/html": [
       "<div>\n",
       "<style scoped>\n",
       "    .dataframe tbody tr th:only-of-type {\n",
       "        vertical-align: middle;\n",
       "    }\n",
       "\n",
       "    .dataframe tbody tr th {\n",
       "        vertical-align: top;\n",
       "    }\n",
       "\n",
       "    .dataframe thead th {\n",
       "        text-align: right;\n",
       "    }\n",
       "</style>\n",
       "<table border=\"1\" class=\"dataframe\">\n",
       "  <thead>\n",
       "    <tr style=\"text-align: right;\">\n",
       "      <th></th>\n",
       "      <th>penalized_regression_coefficients</th>\n",
       "      <th>exp</th>\n",
       "    </tr>\n",
       "  </thead>\n",
       "  <tbody>\n",
       "    <tr>\n",
       "      <th>nation</th>\n",
       "      <td>2.062</td>\n",
       "      <td>7.861677</td>\n",
       "    </tr>\n",
       "    <tr>\n",
       "      <th>mueller</th>\n",
       "      <td>1.829</td>\n",
       "      <td>6.227656</td>\n",
       "    </tr>\n",
       "    <tr>\n",
       "      <th>kavanaugh</th>\n",
       "      <td>1.813</td>\n",
       "      <td>6.128806</td>\n",
       "    </tr>\n",
       "    <tr>\n",
       "      <th>fucking</th>\n",
       "      <td>1.810</td>\n",
       "      <td>6.110447</td>\n",
       "    </tr>\n",
       "    <tr>\n",
       "      <th>little</th>\n",
       "      <td>1.798</td>\n",
       "      <td>6.037560</td>\n",
       "    </tr>\n",
       "    <tr>\n",
       "      <th>unveils</th>\n",
       "      <td>1.795</td>\n",
       "      <td>6.019475</td>\n",
       "    </tr>\n",
       "    <tr>\n",
       "      <th>shit</th>\n",
       "      <td>1.772</td>\n",
       "      <td>5.882607</td>\n",
       "    </tr>\n",
       "    <tr>\n",
       "      <th>heartbreaking</th>\n",
       "      <td>1.742</td>\n",
       "      <td>5.708750</td>\n",
       "    </tr>\n",
       "    <tr>\n",
       "      <th>announces</th>\n",
       "      <td>1.656</td>\n",
       "      <td>5.238316</td>\n",
       "    </tr>\n",
       "    <tr>\n",
       "      <th>excited</th>\n",
       "      <td>1.631</td>\n",
       "      <td>5.108981</td>\n",
       "    </tr>\n",
       "  </tbody>\n",
       "</table>\n",
       "</div>"
      ],
      "text/plain": [
       "               penalized_regression_coefficients       exp\n",
       "nation                                     2.062  7.861677\n",
       "mueller                                    1.829  6.227656\n",
       "kavanaugh                                  1.813  6.128806\n",
       "fucking                                    1.810  6.110447\n",
       "little                                     1.798  6.037560\n",
       "unveils                                    1.795  6.019475\n",
       "shit                                       1.772  5.882607\n",
       "heartbreaking                              1.742  5.708750\n",
       "announces                                  1.656  5.238316\n",
       "excited                                    1.631  5.108981"
      ]
     },
     "execution_count": 56,
     "metadata": {},
     "output_type": "execute_result"
    }
   ],
   "source": [
    "# Show coefficients that affect r/TheOnion\n",
    "df_merged_head = df_merged.head(10)\n",
    "exp = df_merged_head['penalized_regression_coefficients'].apply(lambda x: np.exp(x))\n",
    "df_merged_head.insert(1, 'exp', exp)\n",
    "df_merged_head.sort_values('exp', ascending=False)"
   ]
  },
  {
   "cell_type": "code",
   "execution_count": 57,
   "metadata": {},
   "outputs": [
    {
     "name": "stdout",
     "output_type": "stream",
     "text": [
      "As occurences of nation increase by 1 in a title, that title is 7.86 times as likely to be classified as r/TheOnion.\n"
     ]
    }
   ],
   "source": [
    "print(\"As occurences of\", df_merged_head.index[0], \"increase by 1 in a title, that title is\", \n",
    "      round(df_merged_head['exp'][0],2), \"times as likely to be classified as r/TheOnion.\")"
   ]
  },
  {
   "cell_type": "code",
   "execution_count": 58,
   "metadata": {
    "scrolled": false
   },
   "outputs": [
    {
     "data": {
      "text/html": [
       "<div>\n",
       "<style scoped>\n",
       "    .dataframe tbody tr th:only-of-type {\n",
       "        vertical-align: middle;\n",
       "    }\n",
       "\n",
       "    .dataframe tbody tr th {\n",
       "        vertical-align: top;\n",
       "    }\n",
       "\n",
       "    .dataframe thead th {\n",
       "        text-align: right;\n",
       "    }\n",
       "</style>\n",
       "<table border=\"1\" class=\"dataframe\">\n",
       "  <thead>\n",
       "    <tr style=\"text-align: right;\">\n",
       "      <th></th>\n",
       "      <th>penalized_regression_coefficients</th>\n",
       "      <th>exp</th>\n",
       "    </tr>\n",
       "  </thead>\n",
       "  <tbody>\n",
       "    <tr>\n",
       "      <th>gender</th>\n",
       "      <td>-2.322</td>\n",
       "      <td>10.196046</td>\n",
       "    </tr>\n",
       "    <tr>\n",
       "      <th>croissant</th>\n",
       "      <td>-2.248</td>\n",
       "      <td>9.468779</td>\n",
       "    </tr>\n",
       "    <tr>\n",
       "      <th>covid</th>\n",
       "      <td>-2.184</td>\n",
       "      <td>8.881762</td>\n",
       "    </tr>\n",
       "    <tr>\n",
       "      <th>qanon</th>\n",
       "      <td>-2.115</td>\n",
       "      <td>8.289586</td>\n",
       "    </tr>\n",
       "    <tr>\n",
       "      <th>texas</th>\n",
       "      <td>-2.093</td>\n",
       "      <td>8.109206</td>\n",
       "    </tr>\n",
       "    <tr>\n",
       "      <th>cops</th>\n",
       "      <td>-2.018</td>\n",
       "      <td>7.523263</td>\n",
       "    </tr>\n",
       "    <tr>\n",
       "      <th>vaccinated</th>\n",
       "      <td>-1.946</td>\n",
       "      <td>7.000629</td>\n",
       "    </tr>\n",
       "    <tr>\n",
       "      <th>fake</th>\n",
       "      <td>-1.939</td>\n",
       "      <td>6.951796</td>\n",
       "    </tr>\n",
       "    <tr>\n",
       "      <th>jailed</th>\n",
       "      <td>-1.880</td>\n",
       "      <td>6.553505</td>\n",
       "    </tr>\n",
       "    <tr>\n",
       "      <th>cpac</th>\n",
       "      <td>-1.852</td>\n",
       "      <td>6.372552</td>\n",
       "    </tr>\n",
       "  </tbody>\n",
       "</table>\n",
       "</div>"
      ],
      "text/plain": [
       "            penalized_regression_coefficients        exp\n",
       "gender                                 -2.322  10.196046\n",
       "croissant                              -2.248   9.468779\n",
       "covid                                  -2.184   8.881762\n",
       "qanon                                  -2.115   8.289586\n",
       "texas                                  -2.093   8.109206\n",
       "cops                                   -2.018   7.523263\n",
       "vaccinated                             -1.946   7.000629\n",
       "fake                                   -1.939   6.951796\n",
       "jailed                                 -1.880   6.553505\n",
       "cpac                                   -1.852   6.372552"
      ]
     },
     "execution_count": 58,
     "metadata": {},
     "output_type": "execute_result"
    }
   ],
   "source": [
    "# Show coefficients that affect r/nottheonion\n",
    "df_merged_tail = df_merged.tail(10)\n",
    "exp = df_merged_tail['penalized_regression_coefficients'].apply(lambda x: np.exp(x * -1))\n",
    "df_merged_tail.insert(1, 'exp', exp)\n",
    "df_merged_tail.sort_values('exp', ascending=False)"
   ]
  },
  {
   "cell_type": "code",
   "execution_count": 59,
   "metadata": {},
   "outputs": [
    {
     "name": "stdout",
     "output_type": "stream",
     "text": [
      "As occurences of gender increase by 1 in a title, that title is 10.2 times as likely to be classified as r/nottheonion.\n"
     ]
    }
   ],
   "source": [
    "print(\"As occurences of\", df_merged_tail.index[-1], \"increase by 1 in a title, that title is\", \n",
    "      round(df_merged_tail['exp'][-1],2), \"times as likely to be classified as r/nottheonion.\")"
   ]
  },
  {
   "cell_type": "markdown",
   "metadata": {},
   "source": [
    "# Conclusions and Next-Steps"
   ]
  },
  {
   "cell_type": "markdown",
   "metadata": {},
   "source": [
    "The most model to optimize for accuracy in detecting fake news and absurd news uses CountVectorizer and MultinomialDB. The optimal parameters for this model are where `ngram_range` = (1,3) and `alpha` = 0.36. \n",
    " - Accuracy: 83.64%\n",
    " - Precision: 83.45%\n",
    " - Recall: 86.33%\n",
    " - Specificity: 80.59%\n",
    " - Misclassification Rate: 17.8%\n",
    "\n",
    "To interpret my coefficients, I used my CountVectorizer & Logistic Regression model. \n",
    " - The word that contributes the most positively to being from r/TheOnion is ' nation' followed by 'heartbreaking' and 'unarmed'.\n",
    "   - As occurences of \"nation\" increase by 1 in a title, that title is 7.861 times as likely to be classified as r/TheOnion.\n",
    "\n",
    "- The word that contributes the most positively to being from r/nottheonion is 'covid' followed by 'gender' and 'croissant '.  \n",
    "  - As occurences of \"gender\" increase by 1 in a title, that title is 10.196 times as likely to be classified as r/nottheonion.\n",
    "\n",
    "Natural Language Processing of text is one way to analyze fake news, but a major gap exists: image & video analysis. For my next-steps, I am interested in being able to interpret media (images and videos) and classify them as authentic news, fake news, or none of the above (i.e., media for entertainment)."
   ]
  },
  {
   "cell_type": "code",
   "execution_count": null,
   "metadata": {},
   "outputs": [],
   "source": []
  }
 ],
 "metadata": {
  "kernelspec": {
   "display_name": "Python 3",
   "language": "python",
   "name": "python3"
  },
  "language_info": {
   "codemirror_mode": {
    "name": "ipython",
    "version": 3
   },
   "file_extension": ".py",
   "mimetype": "text/x-python",
   "name": "python",
   "nbconvert_exporter": "python",
   "pygments_lexer": "ipython3",
   "version": "3.8.5"
  }
 },
 "nbformat": 4,
 "nbformat_minor": 2
}
